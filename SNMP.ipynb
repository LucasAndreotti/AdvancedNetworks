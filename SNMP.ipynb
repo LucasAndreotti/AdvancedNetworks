{
 "cells": [
  {
   "cell_type": "markdown",
   "metadata": {},
   "source": [
    "# SNMP - Simple Network Management Protocol\n",
    "\n",
    "## Install snmpd tools, agent and mibs"
   ]
  },
  {
   "cell_type": "code",
   "execution_count": 51,
   "metadata": {},
   "outputs": [
    {
     "name": "stderr",
     "output_type": "stream",
     "text": [
      "\n",
      "WARNING: apt does not have a stable CLI interface. Use with caution in scripts.\n",
      "\n"
     ]
    },
    {
     "name": "stdout",
     "output_type": "stream",
     "text": [
      "Hit:1 https://packages.microsoft.com/repos/microsoft-ubuntu-focal-prod focal InRelease\n",
      "Hit:2 http://archive.ubuntu.com/ubuntu focal InRelease\n",
      "Get:3 http://archive.ubuntu.com/ubuntu focal-updates InRelease [128 kB]\n",
      "Get:4 https://dl.yarnpkg.com/debian stable InRelease [17.1 kB]\n",
      "Hit:5 https://repo.anaconda.com/pkgs/misc/debrepo/conda stable InRelease\n",
      "Hit:6 http://archive.ubuntu.com/ubuntu focal-backports InRelease\n",
      "Hit:7 http://security.ubuntu.com/ubuntu focal-security InRelease\n"
     ]
    },
    {
     "name": "stdout",
     "output_type": "stream",
     "text": [
      "Hit:8 https://packagecloud.io/github/git-lfs/ubuntu focal InRelease\n",
      "Fetched 145 kB in 1s (139 kB/s)\n",
      "Reading package lists...\n",
      "Building dependency tree...\n",
      "Reading state information...\n",
      "32 packages can be upgraded. Run 'apt list --upgradable' to see them.\n"
     ]
    },
    {
     "name": "stderr",
     "output_type": "stream",
     "text": [
      "\n",
      "WARNING: apt does not have a stable CLI interface. Use with caution in scripts.\n",
      "\n"
     ]
    },
    {
     "name": "stdout",
     "output_type": "stream",
     "text": [
      "Reading package lists...\n",
      "Building dependency tree...\n",
      "Reading state information...\n",
      "snmp-mibs-downloader is already the newest version (1.2).\n",
      "snmp is already the newest version (5.8+dfsg-2ubuntu2.9).\n",
      "snmpd is already the newest version (5.8+dfsg-2ubuntu2.9).\n",
      "0 upgraded, 0 newly installed, 0 to remove and 32 not upgraded.\n"
     ]
    }
   ],
   "source": [
    "%%bash\n",
    "\n",
    "# Install SNMP - Linux\n",
    "sudo apt update\n",
    "sudo apt install -y snmp snmpd snmp-mibs-downloader"
   ]
  },
  {
   "cell_type": "markdown",
   "metadata": {},
   "source": [
    "## Configure agent configuration file (/etc/snmp/snmpd.conf) and snmp tools configuration file (/etc/snmp/snmp.conf)"
   ]
  },
  {
   "cell_type": "code",
   "execution_count": 53,
   "metadata": {},
   "outputs": [],
   "source": [
    "%%bash\n",
    "\n",
    "sudo mv /etc/snmp/snmpd.conf /etc/snmp/snmpd.conf.old\n",
    "\n",
    "sudo tee /etc/snmp/snmpd.conf > /dev/null <<EOF\n",
    "rocommunity public\n",
    "rwcommunity private\n",
    "EOF\n",
    "\n",
    "sudo sed -i '/mibs :/s/^/#/' /etc/snmp/snmp.conf"
   ]
  },
  {
   "cell_type": "markdown",
   "metadata": {},
   "source": [
    "## Start snmpd daemon (agent)"
   ]
  },
  {
   "cell_type": "code",
   "execution_count": 54,
   "metadata": {},
   "outputs": [
    {
     "name": "stdout",
     "output_type": "stream",
     "text": [
      " * snmpd is running\n"
     ]
    }
   ],
   "source": [
    "%%bash\n",
    "\n",
    "sudo service snmpd restart\n",
    "sudo service snmpd status\n",
    "\n",
    "# Mac\n",
    "# sudo launchctl unload /System/Library/LaunchDaemons/org.net-snmp.snmpd.plist\n",
    "# sudo launchctl load -w /System/Library/LaunchDaemons/org.net-snmp.snmpd.plist"
   ]
  },
  {
   "cell_type": "markdown",
   "metadata": {},
   "source": [
    "## List all downloaded mibs"
   ]
  },
  {
   "cell_type": "code",
   "execution_count": 55,
   "metadata": {},
   "outputs": [
    {
     "name": "stdout",
     "output_type": "stream",
     "text": [
      "/usr/share/snmp/mibs:\n",
      "GNOME-SMI.txt\n",
      "LM-SENSORS-MIB.txt\n",
      "NET-SNMP-AGENT-MIB.txt\n",
      "NET-SNMP-EXAMPLES-MIB.txt\n",
      "NET-SNMP-EXTEND-MIB.txt\n",
      "NET-SNMP-MIB.txt\n",
      "NET-SNMP-MONITOR-MIB.txt\n",
      "NET-SNMP-PASS-MIB.txt\n",
      "NET-SNMP-PERIODIC-NOTIFY-MIB.txt\n",
      "NET-SNMP-SYSTEM-MIB.txt\n",
      "NET-SNMP-TC.txt\n",
      "NET-SNMP-VACM-MIB.txt\n",
      "UCD-DEMO-MIB.txt\n",
      "UCD-DISKIO-MIB.txt\n",
      "UCD-DLMOD-MIB.txt\n",
      "UCD-IPFILTER-MIB.txt\n",
      "UCD-IPFWACC-MIB.txt\n",
      "UCD-SNMP-MIB-OLD.txt\n",
      "UCD-SNMP-MIB.txt\n",
      "iana\n",
      "ietf\n"
     ]
    }
   ],
   "source": [
    "%%bash\n",
    "\n",
    "ls -R /usr/share/snmp/mibs"
   ]
  },
  {
   "cell_type": "markdown",
   "metadata": {},
   "source": [
    "## Show RFC1213 object tree"
   ]
  },
  {
   "cell_type": "code",
   "execution_count": 56,
   "metadata": {},
   "outputs": [
    {
     "name": "stdout",
     "output_type": "stream",
     "text": [
      "+--iso(1)\n",
      "   |\n",
      "   +--org(3)\n",
      "      |\n",
      "      +--dod(6)\n",
      "         |\n",
      "         +--internet(1)\n",
      "            |\n",
      "            +--directory(1)\n",
      "            |\n",
      "            +--mgmt(2)\n",
      "            |  |\n",
      "            |  +--mib-2(1)\n",
      "            |     |\n",
      "            |     +--system(1)\n",
      "            |     |  |\n",
      "            |     |  +-- -R-- String    sysDescr(1)\n",
      "            |     |  |        Textual Convention: DisplayString\n",
      "            |     |  |        Size: 0..255\n",
      "            |     |  +-- -R-- ObjID     sysObjectID(2)\n",
      "            |     |  +-- -R-- TimeTicks sysUpTime(3)\n",
      "            |     |  +-- -RW- String    sysContact(4)\n",
      "            |     |  |        Textual Convention: DisplayString\n",
      "            |     |  |        Size: 0..255\n",
      "            |     |  +-- -RW- String    sysName(5)\n",
      "            |     |  |        Textual Convention: DisplayString\n",
      "            |     |  |        Size: 0..255\n",
      "            |     |  +-- -RW- String    sysLocation(6)\n",
      "            |     |  |        Textual Convention: DisplayString\n",
      "            |     |  |        Size: 0..255\n",
      "            |     |  +-- -R-- INTEGER   sysServices(7)\n",
      "            |     |           Range: 0..127\n",
      "            |     |\n",
      "            |     +--interfaces(2)\n",
      "            |     |  |\n",
      "            |     |  +-- -R-- INTEGER   ifNumber(1)\n",
      "            |     |  |\n",
      "            |     |  +--ifTable(2)\n",
      "            |     |     |\n",
      "            |     |     +--ifEntry(1)\n",
      "            |     |        |  Index: ifIndex\n",
      "            |     |        |\n",
      "            |     |        +-- -R-- INTEGER   ifIndex(1)\n",
      "            |     |        +-- -R-- String    ifDescr(2)\n",
      "            |     |        |        Textual Convention: DisplayString\n",
      "            |     |        |        Size: 0..255\n",
      "            |     |        +-- -R-- EnumVal   ifType(3)\n",
      "            |     |        |        Values: other(1), regular1822(2), hdh1822(3), ddn-x25(4), rfc877-x25(5), ethernet-csmacd(6), iso88023-csmacd(7), iso88024-tokenBus(8), iso88025-tokenRing(9), iso88026-man(10), starLan(11), proteon-10Mbit(12), proteon-80Mbit(13), hyperchannel(14), fddi(15), lapb(16), sdlc(17), ds1(18), e1(19), basicISDN(20), primaryISDN(21), propPointToPointSerial(22), ppp(23), softwareLoopback(24), eon(25), ethernet-3Mbit(26), nsip(27), slip(28), ultra(29), ds3(30), sip(31), frame-relay(32)\n",
      "            |     |        +-- -R-- INTEGER   ifMtu(4)\n",
      "            |     |        +-- -R-- Gauge     ifSpeed(5)\n",
      "            |     |        +-- -R-- String    ifPhysAddress(6)\n",
      "            |     |        |        Textual Convention: PhysAddress\n",
      "            |     |        +-- -RW- EnumVal   ifAdminStatus(7)\n",
      "            |     |        |        Values: up(1), down(2), testing(3)\n",
      "            |     |        +-- -R-- EnumVal   ifOperStatus(8)\n",
      "            |     |        |        Values: up(1), down(2), testing(3)\n",
      "            |     |        +-- -R-- TimeTicks ifLastChange(9)\n",
      "            |     |        +-- -R-- Counter   ifInOctets(10)\n",
      "            |     |        +-- -R-- Counter   ifInUcastPkts(11)\n",
      "            |     |        +-- -R-- Counter   ifInNUcastPkts(12)\n",
      "            |     |        +-- -R-- Counter   ifInDiscards(13)\n",
      "            |     |        +-- -R-- Counter   ifInErrors(14)\n",
      "            |     |        +-- -R-- Counter   ifInUnknownProtos(15)\n",
      "            |     |        +-- -R-- Counter   ifOutOctets(16)\n",
      "            |     |        +-- -R-- Counter   ifOutUcastPkts(17)\n",
      "            |     |        +-- -R-- Counter   ifOutNUcastPkts(18)\n",
      "            |     |        +-- -R-- Counter   ifOutDiscards(19)\n",
      "            |     |        +-- -R-- Counter   ifOutErrors(20)\n",
      "            |     |        +-- -R-- Gauge     ifOutQLen(21)\n",
      "            |     |        +-- -R-- ObjID     ifSpecific(22)\n",
      "            |     |\n",
      "            |     +--at(3)\n",
      "            |     |  |\n",
      "            |     |  +--atTable(1)\n",
      "            |     |     |\n",
      "            |     |     +--atEntry(1)\n",
      "            |     |        |  Index: atIfIndex, atNetAddress\n",
      "            |     |        |\n",
      "            |     |        +-- -RW- INTEGER   atIfIndex(1)\n",
      "            |     |        +-- -RW- String    atPhysAddress(2)\n",
      "            |     |        |        Textual Convention: PhysAddress\n",
      "            |     |        +-- -RW- NetAddr   atNetAddress(3)\n",
      "            |     |\n",
      "            |     +--ip(4)\n",
      "            |     |  |\n",
      "            |     |  +-- -RW- EnumVal   ipForwarding(1)\n",
      "            |     |  |        Values: forwarding(1), not-forwarding(2)\n",
      "            |     |  +-- -RW- INTEGER   ipDefaultTTL(2)\n",
      "            |     |  +-- -R-- Counter   ipInReceives(3)\n",
      "            |     |  +-- -R-- Counter   ipInHdrErrors(4)\n",
      "            |     |  +-- -R-- Counter   ipInAddrErrors(5)\n",
      "            |     |  +-- -R-- Counter   ipForwDatagrams(6)\n",
      "            |     |  +-- -R-- Counter   ipInUnknownProtos(7)\n",
      "            |     |  +-- -R-- Counter   ipInDiscards(8)\n",
      "            |     |  +-- -R-- Counter   ipInDelivers(9)\n",
      "            |     |  +-- -R-- Counter   ipOutRequests(10)\n",
      "            |     |  +-- -R-- Counter   ipOutDiscards(11)\n",
      "            |     |  +-- -R-- Counter   ipOutNoRoutes(12)\n",
      "            |     |  +-- -R-- INTEGER   ipReasmTimeout(13)\n",
      "            |     |  +-- -R-- Counter   ipReasmReqds(14)\n",
      "            |     |  +-- -R-- Counter   ipReasmOKs(15)\n",
      "            |     |  +-- -R-- Counter   ipReasmFails(16)\n",
      "            |     |  +-- -R-- Counter   ipFragOKs(17)\n",
      "            |     |  +-- -R-- Counter   ipFragFails(18)\n",
      "            |     |  +-- -R-- Counter   ipFragCreates(19)\n",
      "            |     |  |\n",
      "            |     |  +--ipAddrTable(20)\n",
      "            |     |  |  |\n",
      "            |     |  |  +--ipAddrEntry(1)\n",
      "            |     |  |     |  Index: ipAdEntAddr\n",
      "            |     |  |     |\n",
      "            |     |  |     +-- -R-- IpAddr    ipAdEntAddr(1)\n",
      "            |     |  |     +-- -R-- INTEGER   ipAdEntIfIndex(2)\n",
      "            |     |  |     +-- -R-- IpAddr    ipAdEntNetMask(3)\n",
      "            |     |  |     +-- -R-- INTEGER   ipAdEntBcastAddr(4)\n",
      "            |     |  |     +-- -R-- INTEGER   ipAdEntReasmMaxSize(5)\n",
      "            |     |  |              Range: 0..65535\n",
      "            |     |  |\n",
      "            |     |  +--ipRouteTable(21)\n",
      "            |     |  |  |\n",
      "            |     |  |  +--ipRouteEntry(1)\n",
      "            |     |  |     |  Index: ipRouteDest\n",
      "            |     |  |     |\n",
      "            |     |  |     +-- -RW- IpAddr    ipRouteDest(1)\n",
      "            |     |  |     +-- -RW- INTEGER   ipRouteIfIndex(2)\n",
      "            |     |  |     +-- -RW- INTEGER   ipRouteMetric1(3)\n",
      "            |     |  |     +-- -RW- INTEGER   ipRouteMetric2(4)\n",
      "            |     |  |     +-- -RW- INTEGER   ipRouteMetric3(5)\n",
      "            |     |  |     +-- -RW- INTEGER   ipRouteMetric4(6)\n",
      "            |     |  |     +-- -RW- IpAddr    ipRouteNextHop(7)\n",
      "            |     |  |     +-- -RW- EnumVal   ipRouteType(8)\n",
      "            |     |  |     |        Values: other(1), invalid(2), direct(3), indirect(4)\n",
      "            |     |  |     +-- -R-- EnumVal   ipRouteProto(9)\n",
      "            |     |  |     |        Values: other(1), local(2), netmgmt(3), icmp(4), egp(5), ggp(6), hello(7), rip(8), is-is(9), es-is(10), ciscoIgrp(11), bbnSpfIgp(12), ospf(13), bgp(14)\n",
      "            |     |  |     +-- -RW- INTEGER   ipRouteAge(10)\n",
      "            |     |  |     +-- -RW- IpAddr    ipRouteMask(11)\n",
      "            |     |  |     +-- -RW- INTEGER   ipRouteMetric5(12)\n",
      "            |     |  |     +-- -R-- ObjID     ipRouteInfo(13)\n",
      "            |     |  |\n",
      "            |     |  +--ipNetToMediaTable(22)\n",
      "            |     |  |  |\n",
      "            |     |  |  +--ipNetToMediaEntry(1)\n",
      "            |     |  |     |  Index: ipNetToMediaIfIndex, ipNetToMediaNetAddress\n",
      "            |     |  |     |\n",
      "            |     |  |     +-- -RW- INTEGER   ipNetToMediaIfIndex(1)\n",
      "            |     |  |     +-- -RW- String    ipNetToMediaPhysAddress(2)\n",
      "            |     |  |     |        Textual Convention: PhysAddress\n",
      "            |     |  |     +-- -RW- IpAddr    ipNetToMediaNetAddress(3)\n",
      "            |     |  |     +-- -RW- EnumVal   ipNetToMediaType(4)\n",
      "            |     |  |              Values: other(1), invalid(2), dynamic(3), static(4)\n",
      "            |     |  |\n",
      "            |     |  +-- -R-- Counter   ipRoutingDiscards(23)\n",
      "            |     |\n",
      "            |     +--icmp(5)\n",
      "            |     |  |\n",
      "            |     |  +-- -R-- Counter   icmpInMsgs(1)\n",
      "            |     |  +-- -R-- Counter   icmpInErrors(2)\n",
      "            |     |  +-- -R-- Counter   icmpInDestUnreachs(3)\n",
      "            |     |  +-- -R-- Counter   icmpInTimeExcds(4)\n",
      "            |     |  +-- -R-- Counter   icmpInParmProbs(5)\n",
      "            |     |  +-- -R-- Counter   icmpInSrcQuenchs(6)\n",
      "            |     |  +-- -R-- Counter   icmpInRedirects(7)\n",
      "            |     |  +-- -R-- Counter   icmpInEchos(8)\n",
      "            |     |  +-- -R-- Counter   icmpInEchoReps(9)\n",
      "            |     |  +-- -R-- Counter   icmpInTimestamps(10)\n",
      "            |     |  +-- -R-- Counter   icmpInTimestampReps(11)\n",
      "            |     |  +-- -R-- Counter   icmpInAddrMasks(12)\n",
      "            |     |  +-- -R-- Counter   icmpInAddrMaskReps(13)\n",
      "            |     |  +-- -R-- Counter   icmpOutMsgs(14)\n",
      "            |     |  +-- -R-- Counter   icmpOutErrors(15)\n",
      "            |     |  +-- -R-- Counter   icmpOutDestUnreachs(16)\n",
      "            |     |  +-- -R-- Counter   icmpOutTimeExcds(17)\n",
      "            |     |  +-- -R-- Counter   icmpOutParmProbs(18)\n",
      "            |     |  +-- -R-- Counter   icmpOutSrcQuenchs(19)\n",
      "            |     |  +-- -R-- Counter   icmpOutRedirects(20)\n",
      "            |     |  +-- -R-- Counter   icmpOutEchos(21)\n",
      "            |     |  +-- -R-- Counter   icmpOutEchoReps(22)\n",
      "            |     |  +-- -R-- Counter   icmpOutTimestamps(23)\n",
      "            |     |  +-- -R-- Counter   icmpOutTimestampReps(24)\n",
      "            |     |  +-- -R-- Counter   icmpOutAddrMasks(25)\n",
      "            |     |  +-- -R-- Counter   icmpOutAddrMaskReps(26)\n",
      "            |     |\n",
      "            |     +--tcp(6)\n",
      "            |     |  |\n",
      "            |     |  +-- -R-- EnumVal   tcpRtoAlgorithm(1)\n",
      "            |     |  |        Values: other(1), constant(2), rsre(3), vanj(4)\n",
      "            |     |  +-- -R-- INTEGER   tcpRtoMin(2)\n",
      "            |     |  +-- -R-- INTEGER   tcpRtoMax(3)\n",
      "            |     |  +-- -R-- INTEGER   tcpMaxConn(4)\n",
      "            |     |  +-- -R-- Counter   tcpActiveOpens(5)\n",
      "            |     |  +-- -R-- Counter   tcpPassiveOpens(6)\n",
      "            |     |  +-- -R-- Counter   tcpAttemptFails(7)\n",
      "            |     |  +-- -R-- Counter   tcpEstabResets(8)\n",
      "            |     |  +-- -R-- Gauge     tcpCurrEstab(9)\n",
      "            |     |  +-- -R-- Counter   tcpInSegs(10)\n",
      "            |     |  +-- -R-- Counter   tcpOutSegs(11)\n",
      "            |     |  +-- -R-- Counter   tcpRetransSegs(12)\n",
      "            |     |  |\n",
      "            |     |  +--tcpConnTable(13)\n",
      "            |     |  |  |\n",
      "            |     |  |  +--tcpConnEntry(1)\n",
      "            |     |  |     |  Index: tcpConnLocalAddress, tcpConnLocalPort, tcpConnRemAddress, tcpConnRemPort\n",
      "            |     |  |     |\n",
      "            |     |  |     +-- -RW- EnumVal   tcpConnState(1)\n",
      "            |     |  |     |        Values: closed(1), listen(2), synSent(3), synReceived(4), established(5), finWait1(6), finWait2(7), closeWait(8), lastAck(9), closing(10), timeWait(11), deleteTCB(12)\n",
      "            |     |  |     +-- -R-- IpAddr    tcpConnLocalAddress(2)\n",
      "            |     |  |     +-- -R-- INTEGER   tcpConnLocalPort(3)\n",
      "            |     |  |     |        Range: 0..65535\n",
      "            |     |  |     +-- -R-- IpAddr    tcpConnRemAddress(4)\n",
      "            |     |  |     +-- -R-- INTEGER   tcpConnRemPort(5)\n",
      "            |     |  |              Range: 0..65535\n",
      "            |     |  |\n",
      "            |     |  +-- -R-- Counter   tcpInErrs(14)\n",
      "            |     |  +-- -R-- Counter   tcpOutRsts(15)\n",
      "            |     |\n",
      "            |     +--udp(7)\n",
      "            |     |  |\n",
      "            |     |  +-- -R-- Counter   udpInDatagrams(1)\n",
      "            |     |  +-- -R-- Counter   udpNoPorts(2)\n",
      "            |     |  +-- -R-- Counter   udpInErrors(3)\n",
      "            |     |  +-- -R-- Counter   udpOutDatagrams(4)\n",
      "            |     |  |\n",
      "            |     |  +--udpTable(5)\n",
      "            |     |     |\n",
      "            |     |     +--udpEntry(1)\n",
      "            |     |        |  Index: udpLocalAddress, udpLocalPort\n",
      "            |     |        |\n",
      "            |     |        +-- -R-- IpAddr    udpLocalAddress(1)\n",
      "            |     |        +-- -R-- INTEGER   udpLocalPort(2)\n",
      "            |     |                 Range: 0..65535\n",
      "            |     |\n",
      "            |     +--egp(8)\n",
      "            |     |  |\n",
      "            |     |  +-- -R-- Counter   egpInMsgs(1)\n",
      "            |     |  +-- -R-- Counter   egpInErrors(2)\n",
      "            |     |  +-- -R-- Counter   egpOutMsgs(3)\n",
      "            |     |  +-- -R-- Counter   egpOutErrors(4)\n",
      "            |     |  |\n",
      "            |     |  +--egpNeighTable(5)\n",
      "            |     |  |  |\n",
      "            |     |  |  +--egpNeighEntry(1)\n",
      "            |     |  |     |  Index: egpNeighAddr\n",
      "            |     |  |     |\n",
      "            |     |  |     +-- -R-- EnumVal   egpNeighState(1)\n",
      "            |     |  |     |        Values: idle(1), acquisition(2), down(3), up(4), cease(5)\n",
      "            |     |  |     +-- -R-- IpAddr    egpNeighAddr(2)\n",
      "            |     |  |     +-- -R-- INTEGER   egpNeighAs(3)\n",
      "            |     |  |     +-- -R-- Counter   egpNeighInMsgs(4)\n",
      "            |     |  |     +-- -R-- Counter   egpNeighInErrs(5)\n",
      "            |     |  |     +-- -R-- Counter   egpNeighOutMsgs(6)\n",
      "            |     |  |     +-- -R-- Counter   egpNeighOutErrs(7)\n",
      "            |     |  |     +-- -R-- Counter   egpNeighInErrMsgs(8)\n",
      "            |     |  |     +-- -R-- Counter   egpNeighOutErrMsgs(9)\n",
      "            |     |  |     +-- -R-- Counter   egpNeighStateUps(10)\n",
      "            |     |  |     +-- -R-- Counter   egpNeighStateDowns(11)\n",
      "            |     |  |     +-- -R-- INTEGER   egpNeighIntervalHello(12)\n",
      "            |     |  |     +-- -R-- INTEGER   egpNeighIntervalPoll(13)\n",
      "            |     |  |     +-- -R-- EnumVal   egpNeighMode(14)\n",
      "            |     |  |     |        Values: active(1), passive(2)\n",
      "            |     |  |     +-- -RW- EnumVal   egpNeighEventTrigger(15)\n",
      "            |     |  |              Values: start(1), stop(2)\n",
      "            |     |  |\n",
      "            |     |  +-- -R-- INTEGER   egpAs(6)\n",
      "            |     |\n",
      "            |     +--transmission(10)\n",
      "            |     |\n",
      "            |     +--snmp(11)\n",
      "            |        |\n",
      "            |        +-- -R-- Counter   snmpInPkts(1)\n",
      "            |        +-- -R-- Counter   snmpOutPkts(2)\n",
      "            |        +-- -R-- Counter   snmpInBadVersions(3)\n",
      "            |        +-- -R-- Counter   snmpInBadCommunityNames(4)\n",
      "            |        +-- -R-- Counter   snmpInBadCommunityUses(5)\n",
      "            |        +-- -R-- Counter   snmpInASNParseErrs(6)\n",
      "            |        +-- -R-- Counter   snmpInTooBigs(8)\n",
      "            |        +-- -R-- Counter   snmpInNoSuchNames(9)\n",
      "            |        +-- -R-- Counter   snmpInBadValues(10)\n",
      "            |        +-- -R-- Counter   snmpInReadOnlys(11)\n",
      "            |        +-- -R-- Counter   snmpInGenErrs(12)\n",
      "            |        +-- -R-- Counter   snmpInTotalReqVars(13)\n",
      "            |        +-- -R-- Counter   snmpInTotalSetVars(14)\n",
      "            |        +-- -R-- Counter   snmpInGetRequests(15)\n",
      "            |        +-- -R-- Counter   snmpInGetNexts(16)\n",
      "            |        +-- -R-- Counter   snmpInSetRequests(17)\n",
      "            |        +-- -R-- Counter   snmpInGetResponses(18)\n",
      "            |        +-- -R-- Counter   snmpInTraps(19)\n",
      "            |        +-- -R-- Counter   snmpOutTooBigs(20)\n",
      "            |        +-- -R-- Counter   snmpOutNoSuchNames(21)\n",
      "            |        +-- -R-- Counter   snmpOutBadValues(22)\n",
      "            |        +-- -R-- Counter   snmpOutGenErrs(24)\n",
      "            |        +-- -R-- Counter   snmpOutGetRequests(25)\n",
      "            |        +-- -R-- Counter   snmpOutGetNexts(26)\n",
      "            |        +-- -R-- Counter   snmpOutSetRequests(27)\n",
      "            |        +-- -R-- Counter   snmpOutGetResponses(28)\n",
      "            |        +-- -R-- Counter   snmpOutTraps(29)\n",
      "            |        +-- -RW- EnumVal   snmpEnableAuthenTraps(30)\n",
      "            |                 Values: enabled(1), disabled(2)\n",
      "            |\n",
      "            +--experimental(3)\n",
      "            |\n",
      "            +--private(4)\n",
      "               |\n",
      "               +--enterprises(1)\n"
     ]
    }
   ],
   "source": [
    "%%bash\n",
    "\n",
    "# Variables\n",
    "MIB=\"/usr/share/snmp/mibs/ietf/RFC1213-MIB\"\n",
    "\n",
    "snmptranslate -m $MIB -Tp"
   ]
  },
  {
   "cell_type": "markdown",
   "metadata": {},
   "source": [
    "## Show the description of a specific object"
   ]
  },
  {
   "cell_type": "code",
   "execution_count": 57,
   "metadata": {},
   "outputs": [
    {
     "name": "stdout",
     "output_type": "stream",
     "text": [
      "sysDescr OBJECT-TYPE\n",
      "    SYNTAX  DisplayString (SIZE (0..255))\n",
      "    ACCESS  read-only\n",
      "    STATUS  mandatory\n",
      "    DESCRIPTION\n",
      "            \"A textual description of the entity.  This value\n",
      "            should include the full name and version\n",
      "            identification of the system's hardware type,\n",
      "            software operating-system, and networking\n",
      "            software.  It is mandatory that this only contain\n",
      "            printable ASCII characters.\"\n",
      "    ::= { system 1 }\n"
     ]
    }
   ],
   "source": [
    "%%bash\n",
    "\n",
    "# Variables\n",
    "OBJECT=\"sysDescr\"\n",
    "MIB=\"/usr/share/snmp/mibs/ietf/RFC1213-MIB\"\n",
    "\n",
    "# Command to extract text from search_string to } excluding the }\n",
    "sed -n \"/$OBJECT OBJECT-TYPE/,/}/p\" $MIB"
   ]
  },
  {
   "cell_type": "markdown",
   "metadata": {},
   "source": [
    "## Using snmpget"
   ]
  },
  {
   "cell_type": "code",
   "execution_count": 58,
   "metadata": {},
   "outputs": [
    {
     "name": "stdout",
     "output_type": "stream",
     "text": [
      "SNMPv2-MIB::sysDescr.0 = STRING: Linux codespaces-581cab 6.5.0-1022-azure #23~22.04.1-Ubuntu SMP Thu May  9 17:59:24 UTC 2024 x86_64\n",
      "SNMPv2-MIB::sysContact.0 = STRING: admin@localhost\n"
     ]
    }
   ],
   "source": [
    "%%bash\n",
    "\n",
    "# snmpget -v <SNMP version> -c <community> <host> <obj1> <obj2> <obj3> \n",
    "\n",
    "snmpget -v 1 -c public localhost sysDescr.0 sysContact.0"
   ]
  },
  {
   "cell_type": "markdown",
   "metadata": {},
   "source": [
    "## Using snmpset"
   ]
  },
  {
   "cell_type": "code",
   "execution_count": 59,
   "metadata": {},
   "outputs": [
    {
     "name": "stdout",
     "output_type": "stream",
     "text": [
      "SNMPv2-MIB::sysContact.0 = STRING: admin@localhost\n",
      "SNMPv2-MIB::sysContact.0 = STRING: admin@localhost\n"
     ]
    }
   ],
   "source": [
    "%%bash\n",
    "\n",
    "snmpset -v 1 -c private localhost sysContact.0 s admin@localhost\n",
    "snmpget -v 1 -c public localhost sysContact.0"
   ]
  },
  {
   "cell_type": "markdown",
   "metadata": {},
   "source": [
    "## Using snmpgetnext"
   ]
  },
  {
   "cell_type": "code",
   "execution_count": 60,
   "metadata": {},
   "outputs": [
    {
     "name": "stdout",
     "output_type": "stream",
     "text": [
      "SNMPv2-MIB::sysDescr.0 = STRING: Linux codespaces-581cab 6.5.0-1022-azure #23~22.04.1-Ubuntu SMP Thu May  9 17:59:24 UTC 2024 x86_64\n",
      "IF-MIB::ifNumber.0 = INTEGER: 3\n"
     ]
    }
   ],
   "source": [
    "%%bash\n",
    "\n",
    "snmpgetnext -v 1 -c public localhost system interfaces"
   ]
  },
  {
   "cell_type": "markdown",
   "metadata": {},
   "source": [
    "## Using snmpwalk"
   ]
  },
  {
   "cell_type": "code",
   "execution_count": null,
   "metadata": {},
   "outputs": [],
   "source": [
    "%%bash\n",
    "\n",
    "# run on terminal: sudo tcpdump -i lo -n port 161 -v\n",
    "snmpwalk -v 1 -c public localhost system"
   ]
  },
  {
   "cell_type": "markdown",
   "metadata": {},
   "source": [
    "## Other commands"
   ]
  },
  {
   "cell_type": "code",
   "execution_count": null,
   "metadata": {},
   "outputs": [],
   "source": [
    "%%bash\n",
    "\n",
    "snmptable -v 1 -c public localhost ifTable"
   ]
  },
  {
   "cell_type": "code",
   "execution_count": null,
   "metadata": {},
   "outputs": [],
   "source": [
    "%%bash\n",
    "\n",
    "snmpdelta -v 1 -c public -Cs -CT localhost sysUpTime.0"
   ]
  },
  {
   "cell_type": "code",
   "execution_count": null,
   "metadata": {},
   "outputs": [],
   "source": [
    "%%bash\n",
    "\n",
    "killall snmpdelta"
   ]
  },
  {
   "cell_type": "markdown",
   "metadata": {},
   "source": [
    "## Exercícios - SNMPv1"
   ]
  },
  {
   "cell_type": "markdown",
   "metadata": {},
   "source": [
    "a) obter o endereço físico (MAC) da 2a. interface de rede da tabela ifTable"
   ]
  },
  {
   "cell_type": "code",
   "execution_count": null,
   "metadata": {},
   "outputs": [],
   "source": [
    "%%bash\n",
    "\n",
    "snmpget -v 1 -c public localhost ifPhysAddress.2"
   ]
  },
  {
   "cell_type": "markdown",
   "metadata": {},
   "source": [
    "b) obter o número de mensagens ICMP enviadas e recebidas pelo elemento gerenciado"
   ]
  },
  {
   "cell_type": "code",
   "execution_count": null,
   "metadata": {},
   "outputs": [],
   "source": [
    "%%bash\n",
    "\n",
    "snmpget -v 1 -c public localhost icmpInMsgs.0 icmpOutMsgs.0"
   ]
  },
  {
   "cell_type": "markdown",
   "metadata": {},
   "source": [
    "c) obter o número de requisições GET recebidos pelo agente no elemento gerenciado."
   ]
  },
  {
   "cell_type": "code",
   "execution_count": null,
   "metadata": {},
   "outputs": [],
   "source": [
    "%%bash\n",
    "\n",
    "snmpget -v 1 -c public localhost snmpInGetRequests.0"
   ]
  },
  {
   "cell_type": "markdown",
   "metadata": {},
   "source": [
    "d) modificar o nome do elemento gerenciado para \"Gerencia\""
   ]
  },
  {
   "cell_type": "code",
   "execution_count": null,
   "metadata": {},
   "outputs": [],
   "source": [
    "%%bash\n",
    "\n",
    "snmpset -v 1 -c private localhost sysName.0 s \"Gerencia\""
   ]
  },
  {
   "cell_type": "markdown",
   "metadata": {},
   "source": [
    "e) modificar a identificação da localização do elemento gerenciado para \"LabRedes\""
   ]
  },
  {
   "cell_type": "code",
   "execution_count": null,
   "metadata": {},
   "outputs": [],
   "source": [
    "%%bash\n",
    "\n",
    "snmpset -v 1 -c private localhost sysLocation.0 s \"LabRedes\""
   ]
  },
  {
   "cell_type": "markdown",
   "metadata": {},
   "source": [
    "f) obter a descrição da interface localizada na 1a. linha da tabela ifTable"
   ]
  },
  {
   "cell_type": "code",
   "execution_count": null,
   "metadata": {},
   "outputs": [],
   "source": [
    "%%bash\n",
    "\n",
    "snmpgetnext -v 1 -c public localhost ifDescr"
   ]
  },
  {
   "cell_type": "markdown",
   "metadata": {},
   "source": [
    "g) obter o endereço IP, índice da interface na tabela ifTable, máscara de rede e endereço de broadcast da primeira entrada da tabela ipAddrEntry"
   ]
  },
  {
   "cell_type": "code",
   "execution_count": null,
   "metadata": {},
   "outputs": [],
   "source": [
    "%%bash\n",
    "\n",
    "snmpgetnext -v 1 -c public localhost ipAdEntIfIndex ipAdEntNetMask ipAdEntBcastAddr"
   ]
  },
  {
   "cell_type": "markdown",
   "metadata": {},
   "source": [
    "h) obter o endereço local e porta local da primeira linha da tabela udpTable"
   ]
  },
  {
   "cell_type": "code",
   "execution_count": null,
   "metadata": {},
   "outputs": [],
   "source": [
    "%%bash\n",
    "\n",
    "snmpgetnext -v 1 -c public localhost udpLocalPort udpLocalAddress"
   ]
  },
  {
   "cell_type": "markdown",
   "metadata": {},
   "source": [
    "## Using snmpbulkget"
   ]
  },
  {
   "cell_type": "code",
   "execution_count": null,
   "metadata": {},
   "outputs": [],
   "source": [
    "%%bash\n",
    "\n",
    "snmpbulkget -v2c -c public localhost -Cn2 -Cr3 system interfaces ifIndex ifDescr ifSpeed"
   ]
  },
  {
   "cell_type": "code",
   "execution_count": null,
   "metadata": {},
   "outputs": [],
   "source": [
    "%%bash\n",
    "\n",
    "snmpbulkget -v2c -c public localhost -Cn4 -Cr5 tcpInSegs tcpOutSegs tcpRetransSegs tcpInErrs tcpConnState tcpConnLocalAddress tcpConnLocalPort tcpConnRemAddress tcpConnRemPort"
   ]
  },
  {
   "cell_type": "code",
   "execution_count": null,
   "metadata": {},
   "outputs": [],
   "source": [
    "%%bash\n",
    "\n",
    "snmpbulkget -v2c -c public localhost -Cn0 -Cr4 udpLocalAddress udpLocalPort"
   ]
  },
  {
   "cell_type": "markdown",
   "metadata": {},
   "source": [
    "## Comparing snmpwalk vs snmpbulkwalk\n",
    "\n"
   ]
  },
  {
   "cell_type": "code",
   "execution_count": null,
   "metadata": {},
   "outputs": [],
   "source": [
    "%%bash\n",
    "\n",
    "# run on terminal: sudo tcpdump -i lo -n port 161 -v\n",
    "# snmpwalk -v 1 -c public localhost system\n",
    "\n",
    "snmpbulkwalk -v 2c -c public localhost system"
   ]
  },
  {
   "cell_type": "markdown",
   "metadata": {},
   "source": [
    "# Example using pass directive"
   ]
  },
  {
   "cell_type": "markdown",
   "metadata": {},
   "source": [
    "## snmpd.conf"
   ]
  },
  {
   "cell_type": "code",
   "execution_count": 142,
   "metadata": {},
   "outputs": [
    {
     "name": "stdout",
     "output_type": "stream",
     "text": [
      " * snmpd is running\n"
     ]
    }
   ],
   "source": [
    "%%bash\n",
    "\n",
    "# Add pass directive to snmpd.conf\n",
    "sudo tee /etc/snmp/snmpd.conf > /dev/null <<EOF\n",
    "rocommunity public\n",
    "rwcommunity private\n",
    "\n",
    "pass .1.3.6.1.3.1234.1 /usr/bin/python3 /tmp/agent.py\n",
    "EOF\n",
    "\n",
    "# Restart agent - Linux\n",
    "sudo service snmpd restart\n",
    "sudo service snmpd status\n",
    "\n",
    "# Restart agent - Mac\n",
    "# sudo launchctl unload /System/Library/LaunchDaemons/org.net-snmp.snmpd.plist\n",
    "# sudo launchctl load -w /System/Library/LaunchDaemons/org.net-snmp.snmpd.plist"
   ]
  },
  {
   "cell_type": "markdown",
   "metadata": {},
   "source": [
    "## Agent code"
   ]
  },
  {
   "cell_type": "code",
   "execution_count": 141,
   "metadata": {},
   "outputs": [
    {
     "name": "stdout",
     "output_type": "stream",
     "text": [
      "/workspaces/AdvancedNetworks\n"
     ]
    }
   ],
   "source": [
    "%%bash \n",
    "pwd"
   ]
  },
  {
   "cell_type": "code",
   "execution_count": 151,
   "metadata": {},
   "outputs": [
    {
     "name": "stdout",
     "output_type": "stream",
     "text": [
      "Overwriting agent.py\n"
     ]
    }
   ],
   "source": [
    "%%writefile agent.py\n",
    "#!/usr/bin/env python3\n",
    "\n",
    "import sys\n",
    "import datetime\n",
    "import socket\n",
    "import json\n",
    "\n",
    "def get_revenue():\n",
    "    f = open('logs.json')\n",
    "    data = json.load(f)\n",
    "    # print(data)\n",
    "    f.close()\n",
    "    return data['revenue']\n",
    "\n",
    "def get_total_orders():\n",
    "    f = open('logs.json')\n",
    "    data = json.load(f)\n",
    "    # print(data)\n",
    "    f.close()\n",
    "    return data['totalOrders']\n",
    "\n",
    "def main():\n",
    "\n",
    "    with open(\"agent.log\", 'a') as file:\n",
    "        file.write(' '.join(sys.argv)+\"\\n\")\n",
    "\n",
    "    # readJson()\n",
    "    if len(sys.argv) != 3:\n",
    "        print(\"Usage: agent.py <request-type> <MIB-oid>\")\n",
    "        return\n",
    "\n",
    "    request_type = sys.argv[1]\n",
    "    oid = sys.argv[2]\n",
    "\n",
    "    if request_type == \"-g\":  # GET request # -s é set, -g \n",
    "        if oid == \".1.3.6.1.3.1234.1.1.0\":\n",
    "            print(\".1.3.6.1.3.1234.1.1.0\")\n",
    "            print(\"integer\")\n",
    "            print(get_revenue())\n",
    "        elif oid == \".1.3.6.1.3.1234.1.2.0\":\n",
    "            print(\".1.3.6.1.3.1234.1.2.0\")\n",
    "            print(\"integer\")\n",
    "            print(get_total_orders())\n",
    "        else:\n",
    "            print(\"NONE\")\n",
    "    else:\n",
    "        print(\"NONE\")\n",
    "\n",
    "if __name__ == \"__main__\":\n",
    "    main()\n",
    "\n"
   ]
  },
  {
   "cell_type": "code",
   "execution_count": null,
   "metadata": {},
   "outputs": [],
   "source": [
    "%%bash\n",
    "sudo python /tmp/agent.py -g .1.3.6.1.3.1234.1.2.0"
   ]
  },
  {
   "cell_type": "markdown",
   "metadata": {},
   "source": [
    "## Testing"
   ]
  },
  {
   "cell_type": "code",
   "execution_count": 152,
   "metadata": {},
   "outputs": [
    {
     "name": "stdout",
     "output_type": "stream",
     "text": [
      "SNMPv2-SMI::experimental.1234.1.1.0 = INTEGER: 0\n",
      "SNMPv2-SMI::experimental.1234.1.2.0 = INTEGER: 0\n"
     ]
    }
   ],
   "source": [
    "%%bash\n",
    "\n",
    "snmpget -v2c -c public localhost .1.3.6.1.3.1234.1.1.0\n",
    "snmpget -v2c -c public localhost .1.3.6.1.3.1234.1.2.0"
   ]
  },
  {
   "cell_type": "code",
   "execution_count": 78,
   "metadata": {},
   "outputs": [
    {
     "name": "stdout",
     "output_type": "stream",
     "text": [
      "Overwriting COFFEESHOP.txt\n"
     ]
    }
   ],
   "source": [
    "%%writefile COFFEESHOP.txt\n",
    "\n",
    "COFFEESHOP DEFINITIONS ::= BEGIN\n",
    "\n",
    "IMPORTS\n",
    "    MODULE-IDENTITY, OBJECT-TYPE,\n",
    "    Integer32, experimental\n",
    "        FROM SNMPv2-SMI\n",
    "    DisplayString\n",
    "        FROM SNMPv2-TC\n",
    "        ;\n",
    "\n",
    "coffee MODULE-IDENTITY\n",
    "     LAST-UPDATED \"9803231700Z\"\n",
    "     ORGANIZATION \"The best coffeeshop in the world\"\n",
    "\n",
    "     CONTACT-INFO\n",
    "            \"        Gabriela Zorzo,\n",
    "                     Lucas Andreotti,\n",
    "                     Joana Figueredo\n",
    "             \"\n",
    "     DESCRIPTION\n",
    "            \"The MIB Module for the best coffeeshop.\"\n",
    "    ::= { experimental 1234 }\n",
    "\n",
    "items OBJECT IDENTIFIER ::= { coffee 1 }\n",
    "\n",
    "revenue OBJECT-TYPE\n",
    "     SYNTAX  Integer32\n",
    "     MAX-ACCESS read-only\n",
    "     STATUS current\n",
    "     DESCRIPTION\n",
    "             \"The total revenue of the coffeeshop.\"\n",
    "     ::= { items 1 }\n",
    "\n",
    "\n",
    "totalOrders OBJECT-TYPE\n",
    "     SYNTAX Integer32\n",
    "     MAX-ACCESS read-only\n",
    "     STATUS current\n",
    "     DESCRIPTION\n",
    "        \"The total number of orders placed in the coffeeshop.\"\n",
    "    ::= { items 2 }\n",
    "\n",
    "END\n"
   ]
  },
  {
   "cell_type": "code",
   "execution_count": 82,
   "metadata": {},
   "outputs": [
    {
     "name": "stdout",
     "output_type": "stream",
     "text": [
      "COFFEESHOP::revenue.0 = No Such Instance currently exists at this OID\n",
      "COFFEESHOP::totalOrders.0 = No Such Instance currently exists at this OID\n"
     ]
    }
   ],
   "source": [
    "%%bash\n",
    "\n",
    "snmpget -v2c -c public -M +. -m +COFFEESHOP localhost revenue.0\n",
    "snmpget -v2c -c public -M +. -m +COFFEESHOP localhost totalOrders.0"
   ]
  },
  {
   "cell_type": "code",
   "execution_count": 144,
   "metadata": {},
   "outputs": [
    {
     "name": "stdout",
     "output_type": "stream",
     "text": [
      "{'revenue': 15, 'totalOrders': 1, 'coffee': 0, 'tea': 0, 'soda': 0, 'muffin': 0, 'sandwich': 1, 'pie': 0, 'employees': ['Gabriela', 'Joana', 'Lucas'], 'priceTable': {'coffee': 8, 'tea': 5, 'soda': 6, 'muffin': 7, 'sandwich': 15, 'pie': 12}, 'status': 'Open'}\n",
      "{'revenue': 20, 'totalOrders': 2, 'coffee': 0, 'tea': 1, 'soda': 0, 'muffin': 0, 'sandwich': 1, 'pie': 0, 'employees': ['Gabriela', 'Joana', 'Lucas'], 'priceTable': {'coffee': 8, 'tea': 5, 'soda': 6, 'muffin': 7, 'sandwich': 15, 'pie': 12}, 'status': 'Open'}\n",
      "{'revenue': 28, 'totalOrders': 3, 'coffee': 1, 'tea': 1, 'soda': 0, 'muffin': 0, 'sandwich': 1, 'pie': 0, 'employees': ['Gabriela', 'Joana', 'Lucas'], 'priceTable': {'coffee': 8, 'tea': 5, 'soda': 6, 'muffin': 7, 'sandwich': 15, 'pie': 12}, 'status': 'Open'}\n",
      "{'revenue': 43, 'totalOrders': 4, 'coffee': 1, 'tea': 1, 'soda': 0, 'muffin': 0, 'sandwich': 2, 'pie': 0, 'employees': ['Gabriela', 'Joana', 'Lucas'], 'priceTable': {'coffee': 8, 'tea': 5, 'soda': 6, 'muffin': 7, 'sandwich': 15, 'pie': 12}, 'status': 'Open'}\n",
      "{'revenue': 50, 'totalOrders': 5, 'coffee': 1, 'tea': 1, 'soda': 0, 'muffin': 1, 'sandwich': 2, 'pie': 0, 'employees': ['Gabriela', 'Joana', 'Lucas'], 'priceTable': {'coffee': 8, 'tea': 5, 'soda': 6, 'muffin': 7, 'sandwich': 15, 'pie': 12}, 'status': 'Open'}\n",
      "{'revenue': 56, 'totalOrders': 6, 'coffee': 1, 'tea': 1, 'soda': 1, 'muffin': 1, 'sandwich': 2, 'pie': 0, 'employees': ['Gabriela', 'Joana', 'Lucas'], 'priceTable': {'coffee': 8, 'tea': 5, 'soda': 6, 'muffin': 7, 'sandwich': 15, 'pie': 12}, 'status': 'Open'}\n",
      "{'revenue': 71, 'totalOrders': 7, 'coffee': 1, 'tea': 1, 'soda': 1, 'muffin': 1, 'sandwich': 3, 'pie': 0, 'employees': ['Gabriela', 'Joana', 'Lucas'], 'priceTable': {'coffee': 8, 'tea': 5, 'soda': 6, 'muffin': 7, 'sandwich': 15, 'pie': 12}, 'status': 'Open'}\n"
     ]
    },
    {
     "ename": "KeyboardInterrupt",
     "evalue": "",
     "output_type": "error",
     "traceback": [
      "\u001b[0;31m---------------------------------------------------------------------------\u001b[0m",
      "\u001b[0;31mKeyboardInterrupt\u001b[0m                         Traceback (most recent call last)",
      "Cell \u001b[0;32mIn[144], line 59\u001b[0m\n\u001b[1;32m     56\u001b[0m \u001b[38;5;28;01mwith\u001b[39;00m \u001b[38;5;28mopen\u001b[39m(\u001b[38;5;124m\"\u001b[39m\u001b[38;5;124m/tmp/logs.json\u001b[39m\u001b[38;5;124m\"\u001b[39m, \u001b[38;5;124m\"\u001b[39m\u001b[38;5;124mw\u001b[39m\u001b[38;5;124m\"\u001b[39m) \u001b[38;5;28;01mas\u001b[39;00m outfile:\n\u001b[1;32m     57\u001b[0m     outfile\u001b[38;5;241m.\u001b[39mwrite(json_object)\n\u001b[0;32m---> 59\u001b[0m \u001b[43mtime\u001b[49m\u001b[38;5;241;43m.\u001b[39;49m\u001b[43msleep\u001b[49m\u001b[43m(\u001b[49m\u001b[38;5;241;43m3\u001b[39;49m\u001b[43m)\u001b[49m\n",
      "\u001b[0;31mKeyboardInterrupt\u001b[0m: "
     ]
    }
   ],
   "source": [
    "# %%write\n",
    "\n",
    "from random import randrange\n",
    "import time\n",
    "import json\n",
    "\n",
    "# Funcionários\n",
    "employees = [\"Gabriela\",\"Joana\",\"Lucas\"]\n",
    "\n",
    "# Items\n",
    "items = [\"coffee\",\"tea\",\"soda\",\"muffin\",\"sandwich\",\"pie\"]\n",
    "\n",
    "# Número items\n",
    "itemsNumber = [0,0,0,0,0,0]\n",
    "\n",
    "# Tabela de preços\n",
    "priceTable = {\"coffee\" : 8, \"tea\" : 5, \"soda\" : 6, \"muffin\" : 7, \"sandwich\" : 15, \"pie\" : 12 }\n",
    "\n",
    "# Número pedidos\n",
    "orders = 0\n",
    "\n",
    "# Total valor\n",
    "totalValue = 0\n",
    "\n",
    "# Status\n",
    "status = \"Open\"\n",
    "\n",
    "\n",
    "while(True):\n",
    "    index = randrange(0,5)\n",
    "    item = items[index]\n",
    "    value = priceTable[item]\n",
    "\n",
    "    orders += 1\n",
    "    totalValue += value\n",
    "    itemsNumber[index] += 1\n",
    "\n",
    "    log = {\n",
    "        \"revenue\" : totalValue,\n",
    "        \"totalOrders\" : orders,\n",
    "        items[0] : itemsNumber[0],\n",
    "        items[1] : itemsNumber[1],\n",
    "        items[2] : itemsNumber[2],\n",
    "        items[3] : itemsNumber[3],\n",
    "        items[4] : itemsNumber[4],\n",
    "        items[5] : itemsNumber[5],\n",
    "        \"employees\" : employees,\n",
    "        \"priceTable\" : priceTable,\n",
    "        \"status\" : status\n",
    "    }\n",
    "\n",
    "    print(log)\n",
    "   \n",
    "    json_object = json.dumps(log, indent=4)\n",
    "    \n",
    "    with open(\"/tmp/logs.json\", \"w\") as outfile:\n",
    "        outfile.write(json_object)\n",
    "\n",
    "    time.sleep(3)"
   ]
  }
 ],
 "metadata": {
  "kernelspec": {
   "display_name": "Python 3",
   "language": "python",
   "name": "python3"
  },
  "language_info": {
   "codemirror_mode": {
    "name": "ipython",
    "version": 3
   },
   "file_extension": ".py",
   "mimetype": "text/x-python",
   "name": "python",
   "nbconvert_exporter": "python",
   "pygments_lexer": "ipython3",
   "version": "3.10.13"
  }
 },
 "nbformat": 4,
 "nbformat_minor": 2
}
