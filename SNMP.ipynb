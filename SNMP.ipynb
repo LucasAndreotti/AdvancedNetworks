{
 "cells": [
  {
   "cell_type": "markdown",
   "metadata": {},
   "source": [
    "# SNMP - Simple Network Management Protocol\n",
    "\n",
    "## Install snmpd tools, agent and mibs"
   ]
  },
  {
   "cell_type": "code",
   "execution_count": null,
   "metadata": {},
   "outputs": [],
   "source": [
    "%%bash\n",
    "\n",
    "# Install SNMP - Linux\n",
    "sudo apt update\n",
    "sudo apt install -y snmp snmpd snmp-mibs-downloader"
   ]
  },
  {
   "cell_type": "markdown",
   "metadata": {},
   "source": [
    "## Configure agent configuration file (/etc/snmp/snmpd.conf) and snmp tools configuration file (/etc/snmp/snmp.conf)"
   ]
  },
  {
   "cell_type": "code",
   "execution_count": 2,
   "metadata": {},
   "outputs": [],
   "source": [
    "%%bash\n",
    "\n",
    "sudo mv /etc/snmp/snmpd.conf /etc/snmp/snmpd.conf.old\n",
    "\n",
    "sudo tee /etc/snmp/snmpd.conf > /dev/null <<EOF\n",
    "rocommunity public\n",
    "rwcommunity private\n",
    "EOF\n",
    "\n",
    "sudo sed -i '/mibs :/s/^/#/' /etc/snmp/snmp.conf"
   ]
  },
  {
   "cell_type": "markdown",
   "metadata": {},
   "source": [
    "## Start snmpd daemon (agent)"
   ]
  },
  {
   "cell_type": "code",
   "execution_count": 3,
   "metadata": {},
   "outputs": [
    {
     "name": "stdout",
     "output_type": "stream",
     "text": [
      " * snmpd is running\n"
     ]
    }
   ],
   "source": [
    "%%bash\n",
    "\n",
    "sudo service snmpd restart\n",
    "sudo service snmpd status\n",
    "\n",
    "# Mac\n",
    "# sudo launchctl unload /System/Library/LaunchDaemons/org.net-snmp.snmpd.plist\n",
    "# sudo launchctl load -w /System/Library/LaunchDaemons/org.net-snmp.snmpd.plist"
   ]
  },
  {
   "cell_type": "markdown",
   "metadata": {},
   "source": [
    "## List all downloaded mibs"
   ]
  },
  {
   "cell_type": "code",
   "execution_count": null,
   "metadata": {},
   "outputs": [],
   "source": [
    "%%bash\n",
    "\n",
    "ls -R /usr/share/snmp/mibs"
   ]
  },
  {
   "cell_type": "markdown",
   "metadata": {},
   "source": [
    "## Show RFC1213 object tree"
   ]
  },
  {
   "cell_type": "code",
   "execution_count": null,
   "metadata": {},
   "outputs": [],
   "source": [
    "%%bash\n",
    "\n",
    "# Variables\n",
    "MIB=\"/usr/share/snmp/mibs/ietf/RFC1213-MIB\"\n",
    "\n",
    "snmptranslate -m $MIB -Tp"
   ]
  },
  {
   "cell_type": "markdown",
   "metadata": {},
   "source": [
    "## Show the description of a specific object"
   ]
  },
  {
   "cell_type": "code",
   "execution_count": null,
   "metadata": {},
   "outputs": [],
   "source": [
    "%%bash\n",
    "\n",
    "# Variables\n",
    "OBJECT=\"sysDescr\"\n",
    "MIB=\"/usr/share/snmp/mibs/ietf/RFC1213-MIB\"\n",
    "\n",
    "# Command to extract text from search_string to } excluding the }\n",
    "sed -n \"/$OBJECT OBJECT-TYPE/,/}/p\" $MIB"
   ]
  },
  {
   "cell_type": "markdown",
   "metadata": {},
   "source": [
    "## Using snmpget"
   ]
  },
  {
   "cell_type": "code",
   "execution_count": null,
   "metadata": {},
   "outputs": [],
   "source": [
    "%%bash\n",
    "\n",
    "# snmpget -v <SNMP version> -c <community> <host> <obj1> <obj2> <obj3> \n",
    "\n",
    "snmpget -v 1 -c public localhost sysDescr.0 sysContact.0"
   ]
  },
  {
   "cell_type": "markdown",
   "metadata": {},
   "source": [
    "## Using snmpset"
   ]
  },
  {
   "cell_type": "code",
   "execution_count": null,
   "metadata": {},
   "outputs": [],
   "source": [
    "%%bash\n",
    "\n",
    "snmpset -v 1 -c private localhost sysContact.0 s admin@localhost\n",
    "snmpget -v 1 -c public localhost sysContact.0"
   ]
  },
  {
   "cell_type": "markdown",
   "metadata": {},
   "source": [
    "## Using snmpgetnext"
   ]
  },
  {
   "cell_type": "code",
   "execution_count": null,
   "metadata": {},
   "outputs": [],
   "source": [
    "%%bash\n",
    "\n",
    "snmpgetnext -v 1 -c public localhost system interfaces"
   ]
  },
  {
   "cell_type": "markdown",
   "metadata": {},
   "source": [
    "## Using snmpwalk"
   ]
  },
  {
   "cell_type": "code",
   "execution_count": null,
   "metadata": {},
   "outputs": [],
   "source": [
    "%%bash\n",
    "\n",
    "# run on terminal: sudo tcpdump -i lo -n port 161 -v\n",
    "snmpwalk -v 1 -c public localhost system"
   ]
  },
  {
   "cell_type": "markdown",
   "metadata": {},
   "source": [
    "## Other commands"
   ]
  },
  {
   "cell_type": "code",
   "execution_count": null,
   "metadata": {},
   "outputs": [],
   "source": [
    "%%bash\n",
    "\n",
    "snmptable -v 1 -c public localhost ifTable"
   ]
  },
  {
   "cell_type": "code",
   "execution_count": null,
   "metadata": {},
   "outputs": [],
   "source": [
    "%%bash\n",
    "\n",
    "snmpdelta -v 1 -c public -Cs -CT localhost sysUpTime.0"
   ]
  },
  {
   "cell_type": "code",
   "execution_count": null,
   "metadata": {},
   "outputs": [],
   "source": [
    "%%bash\n",
    "\n",
    "killall snmpdelta"
   ]
  },
  {
   "cell_type": "markdown",
   "metadata": {},
   "source": [
    "## Exercícios - SNMPv1"
   ]
  },
  {
   "cell_type": "markdown",
   "metadata": {},
   "source": [
    "a) obter o endereço físico (MAC) da 2a. interface de rede da tabela ifTable"
   ]
  },
  {
   "cell_type": "code",
   "execution_count": null,
   "metadata": {},
   "outputs": [],
   "source": [
    "%%bash\n",
    "\n",
    "snmpget -v 1 -c public localhost ifPhysAddress.2"
   ]
  },
  {
   "cell_type": "markdown",
   "metadata": {},
   "source": [
    "b) obter o número de mensagens ICMP enviadas e recebidas pelo elemento gerenciado"
   ]
  },
  {
   "cell_type": "code",
   "execution_count": null,
   "metadata": {},
   "outputs": [],
   "source": [
    "%%bash\n",
    "\n",
    "snmpget -v 1 -c public localhost icmpInMsgs.0 icmpOutMsgs.0"
   ]
  },
  {
   "cell_type": "markdown",
   "metadata": {},
   "source": [
    "c) obter o número de requisições GET recebidos pelo agente no elemento gerenciado."
   ]
  },
  {
   "cell_type": "code",
   "execution_count": null,
   "metadata": {},
   "outputs": [],
   "source": [
    "%%bash\n",
    "\n",
    "snmpget -v 1 -c public localhost snmpInGetRequests.0"
   ]
  },
  {
   "cell_type": "markdown",
   "metadata": {},
   "source": [
    "d) modificar o nome do elemento gerenciado para \"Gerencia\""
   ]
  },
  {
   "cell_type": "code",
   "execution_count": null,
   "metadata": {},
   "outputs": [],
   "source": [
    "%%bash\n",
    "\n",
    "snmpset -v 1 -c private localhost sysName.0 s \"Gerencia\""
   ]
  },
  {
   "cell_type": "markdown",
   "metadata": {},
   "source": [
    "e) modificar a identificação da localização do elemento gerenciado para \"LabRedes\""
   ]
  },
  {
   "cell_type": "code",
   "execution_count": null,
   "metadata": {},
   "outputs": [],
   "source": [
    "%%bash\n",
    "\n",
    "snmpset -v 1 -c private localhost sysLocation.0 s \"LabRedes\""
   ]
  },
  {
   "cell_type": "markdown",
   "metadata": {},
   "source": [
    "f) obter a descrição da interface localizada na 1a. linha da tabela ifTable"
   ]
  },
  {
   "cell_type": "code",
   "execution_count": null,
   "metadata": {},
   "outputs": [],
   "source": [
    "%%bash\n",
    "\n",
    "snmpgetnext -v 1 -c public localhost ifDescr"
   ]
  },
  {
   "cell_type": "markdown",
   "metadata": {},
   "source": [
    "g) obter o endereço IP, índice da interface na tabela ifTable, máscara de rede e endereço de broadcast da primeira entrada da tabela ipAddrEntry"
   ]
  },
  {
   "cell_type": "code",
   "execution_count": null,
   "metadata": {},
   "outputs": [],
   "source": [
    "%%bash\n",
    "\n",
    "snmpgetnext -v 1 -c public localhost ipAdEntIfIndex ipAdEntNetMask ipAdEntBcastAddr"
   ]
  },
  {
   "cell_type": "markdown",
   "metadata": {},
   "source": [
    "h) obter o endereço local e porta local da primeira linha da tabela udpTable"
   ]
  },
  {
   "cell_type": "code",
   "execution_count": null,
   "metadata": {},
   "outputs": [],
   "source": [
    "%%bash\n",
    "\n",
    "snmpgetnext -v 1 -c public localhost udpLocalPort udpLocalAddress"
   ]
  },
  {
   "cell_type": "markdown",
   "metadata": {},
   "source": [
    "## Using snmpbulkget"
   ]
  },
  {
   "cell_type": "code",
   "execution_count": null,
   "metadata": {},
   "outputs": [],
   "source": [
    "%%bash\n",
    "\n",
    "snmpbulkget -v2c -c public localhost -Cn2 -Cr3 system interfaces ifIndex ifDescr ifSpeed"
   ]
  },
  {
   "cell_type": "code",
   "execution_count": null,
   "metadata": {},
   "outputs": [],
   "source": [
    "%%bash\n",
    "\n",
    "snmpbulkget -v2c -c public localhost -Cn4 -Cr5 tcpInSegs tcpOutSegs tcpRetransSegs tcpInErrs tcpConnState tcpConnLocalAddress tcpConnLocalPort tcpConnRemAddress tcpConnRemPort"
   ]
  },
  {
   "cell_type": "code",
   "execution_count": null,
   "metadata": {},
   "outputs": [],
   "source": [
    "%%bash\n",
    "\n",
    "snmpbulkget -v2c -c public localhost -Cn0 -Cr4 udpLocalAddress udpLocalPort"
   ]
  },
  {
   "cell_type": "markdown",
   "metadata": {},
   "source": [
    "## Comparing snmpwalk vs snmpbulkwalk\n",
    "\n"
   ]
  },
  {
   "cell_type": "code",
   "execution_count": null,
   "metadata": {},
   "outputs": [],
   "source": [
    "%%bash\n",
    "\n",
    "# run on terminal: sudo tcpdump -i lo -n port 161 -v\n",
    "# snmpwalk -v 1 -c public localhost system\n",
    "\n",
    "snmpbulkwalk -v 2c -c public localhost system"
   ]
  },
  {
   "cell_type": "markdown",
   "metadata": {},
   "source": [
    "# Example using pass directive"
   ]
  },
  {
   "cell_type": "markdown",
   "metadata": {},
   "source": [
    "## snmpd.conf"
   ]
  },
  {
   "cell_type": "code",
   "execution_count": 21,
   "metadata": {},
   "outputs": [
    {
     "name": "stdout",
     "output_type": "stream",
     "text": [
      " * snmpd is running\n"
     ]
    }
   ],
   "source": [
    "%%bash\n",
    "\n",
    "# Add pass directive to snmpd.conf\n",
    "sudo tee /etc/snmp/snmpd.conf > /dev/null <<EOF\n",
    "rocommunity public\n",
    "rwcommunity private\n",
    "\n",
    "pass .1.3.6.1.3.1234.1 /usr/bin/python3 /tmp/agent.py\n",
    "EOF\n",
    "\n",
    "# Restart agent - Linux\n",
    "sudo service snmpd restart\n",
    "sudo service snmpd status\n",
    "\n",
    "# Restart agent - Mac\n",
    "# sudo launchctl unload /System/Library/LaunchDaemons/org.net-snmp.snmpd.plist\n",
    "# sudo launchctl load -w /System/Library/LaunchDaemons/org.net-snmp.snmpd.plist"
   ]
  },
  {
   "cell_type": "markdown",
   "metadata": {},
   "source": [
    "## Agent code"
   ]
  },
  {
   "cell_type": "code",
   "execution_count": 47,
   "metadata": {},
   "outputs": [
    {
     "name": "stdout",
     "output_type": "stream",
     "text": [
      "Overwriting /tmp/agent.py\n"
     ]
    }
   ],
   "source": [
    "%%writefile /tmp/agent.py\n",
    "#!/usr/bin/env python3\n",
    "\n",
    "import sys\n",
    "import datetime\n",
    "import socket\n",
    "import json\n",
    "\n",
    "def readJson(obj):\n",
    "    f = open('/tmp/logs.json')\n",
    "    data = json.load(f)\n",
    "    f.close\n",
    "    return data[obj]\n",
    "\n",
    "def get_revenue():\n",
    "    return readJson('revenue')\n",
    "\n",
    "def get_total_orders():\n",
    "    return readJson('totalOrders')\n",
    "\n",
    "def get_coffee():\n",
    "    return readJson('coffee')\n",
    "\n",
    "def get_tea():\n",
    "    return readJson('tea')\n",
    "\n",
    "def get_soda():\n",
    "    return readJson('soda')\n",
    "\n",
    "def get_muffin():\n",
    "    return readJson('muffin')\n",
    "\n",
    "def get_sandwich():\n",
    "    return readJson('sandwich')\n",
    "\n",
    "def get_pie():\n",
    "    return readJson('pie')\n",
    "\n",
    "def get_status():\n",
    "    return readJson('status')\n",
    "\n",
    "def get_employees():\n",
    "    return [\"Gabriela\",\"Lucas\",\"Joana\"]\n",
    "\n",
    "def main():\n",
    "\n",
    "    with open(\"/tmp/agent.log\", 'a') as file:\n",
    "        file.write(' '.join(sys.argv)+\"\\n\")\n",
    "\n",
    "    # readJson()\n",
    "    if len(sys.argv) != 3:\n",
    "        print(\"Usage: agent.py <request-type> <MIB-oid>\")\n",
    "        return\n",
    "\n",
    "    request_type = sys.argv[1]\n",
    "    oid = sys.argv[2]\n",
    "\n",
    "    if request_type == \"-g\":  # GET request # -s é set, -g \n",
    "        if oid == \".1.3.6.1.3.1234.1.1.0\":\n",
    "            print(\".1.3.6.1.3.1234.1.1.0\")\n",
    "            print(\"integer\")\n",
    "            print(get_revenue())\n",
    "        elif oid == \".1.3.6.1.3.1234.1.2.0\":\n",
    "            print(\".1.3.6.1.3.1234.1.2.0\")\n",
    "            print(\"integer\")\n",
    "            print(get_total_orders())\n",
    "        elif oid == \".1.3.6.1.3.1234.1.3.0\":\n",
    "            print(\".1.3.6.1.3.1234.1.3.0\")\n",
    "            print(\"integer\")\n",
    "            print(get_coffee())\n",
    "        elif oid == \".1.3.6.1.3.1234.1.4.0\":\n",
    "            print(\".1.3.6.1.3.1234.1.4.0\")\n",
    "            print(\"integer\")\n",
    "            print(get_tea())\n",
    "        elif oid == \".1.3.6.1.3.1234.1.5.0\":\n",
    "            print(\".1.3.6.1.3.1234.1.5.0\")\n",
    "            print(\"integer\")\n",
    "            print(get_soda())\n",
    "        elif oid == \".1.3.6.1.3.1234.1.6.0\":\n",
    "            print(\".1.3.6.1.3.1234.1.6.0\")\n",
    "            print(\"integer\")\n",
    "            print(get_muffin())\n",
    "        elif oid == \".1.3.6.1.3.1234.1.7.0\":\n",
    "            print(\".1.3.6.1.3.1234.1.7.0\")\n",
    "            print(\"integer\")\n",
    "            print(get_sandwich())\n",
    "        elif oid == \".1.3.6.1.3.1234.1.8.0\":\n",
    "            print(\".1.3.6.1.3.1234.1.8.0\")\n",
    "            print(\"integer\")\n",
    "            print(get_pie())\n",
    "        elif oid == \".1.3.6.1.3.1234.1.9.0\":\n",
    "            print(\".1.3.6.1.3.1234.1.9.0\")\n",
    "            print(\"string\")\n",
    "            print(get_status())\n",
    "        elif oid == \".1.3.6.1.3.1234.1.10.0\":\n",
    "            print(\".1.3.6.1.3.1234.1.10.0\")\n",
    "            print(\"table\")\n",
    "            print(get_employees())\n",
    "        else:\n",
    "            print(\"NONE\")\n",
    "    else:\n",
    "        print(\"NONE\")\n",
    "\n",
    "if __name__ == \"__main__\":\n",
    "    main()\n",
    "\n"
   ]
  },
  {
   "cell_type": "code",
   "execution_count": 24,
   "metadata": {},
   "outputs": [
    {
     "name": "stdout",
     "output_type": "stream",
     "text": [
      ".1.3.6.1.3.1234.1.1.0\n",
      "integer\n",
      "91\n"
     ]
    }
   ],
   "source": [
    "%%bash\n",
    "sudo python /tmp/agent.py -g .1.3.6.1.3.1234.1.1.0"
   ]
  },
  {
   "cell_type": "markdown",
   "metadata": {},
   "source": [
    "## Testando usando o Agente SNMP"
   ]
  },
  {
   "cell_type": "code",
   "execution_count": 48,
   "metadata": {},
   "outputs": [
    {
     "name": "stdout",
     "output_type": "stream",
     "text": [
      "SNMPv2-SMI::experimental.1234.1.1.0 = INTEGER: 395\n",
      "SNMPv2-SMI::experimental.1234.1.2.0 = INTEGER: 47\n",
      "SNMPv2-SMI::experimental.1234.1.3.0 = INTEGER: 9\n",
      "SNMPv2-SMI::experimental.1234.1.4.0 = INTEGER: 14\n",
      "SNMPv2-SMI::experimental.1234.1.5.0 = INTEGER: 3\n",
      "SNMPv2-SMI::experimental.1234.1.6.0 = INTEGER: 10\n"
     ]
    },
    {
     "name": "stdout",
     "output_type": "stream",
     "text": [
      "SNMPv2-SMI::experimental.1234.1.7.0 = INTEGER: 11\n",
      "SNMPv2-SMI::experimental.1234.1.8.0 = INTEGER: 0\n",
      "SNMPv2-SMI::experimental.1234.1.9.0 = STRING: \"Open\"\n",
      "SNMPv2-SMI::experimental.1234.1.10.0 = No Such Instance currently exists at this OID\n"
     ]
    }
   ],
   "source": [
    "%%bash\n",
    "\n",
    "snmpget -v2c -c public localhost .1.3.6.1.3.1234.1.1.0\n",
    "snmpget -v2c -c public localhost .1.3.6.1.3.1234.1.2.0\n",
    "snmpget -v2c -c public localhost .1.3.6.1.3.1234.1.3.0\n",
    "snmpget -v2c -c public localhost .1.3.6.1.3.1234.1.4.0\n",
    "snmpget -v2c -c public localhost .1.3.6.1.3.1234.1.5.0\n",
    "snmpget -v2c -c public localhost .1.3.6.1.3.1234.1.6.0\n",
    "snmpget -v2c -c public localhost .1.3.6.1.3.1234.1.7.0\n",
    "snmpget -v2c -c public localhost .1.3.6.1.3.1234.1.8.0\n",
    "snmpget -v2c -c public localhost .1.3.6.1.3.1234.1.9.0\n",
    "snmpget -v2c -c public localhost .1.3.6.1.3.1234.1.10.0"
   ]
  },
  {
   "cell_type": "markdown",
   "metadata": {},
   "source": [
    "# Nossa MIB"
   ]
  },
  {
   "cell_type": "code",
   "execution_count": 42,
   "metadata": {},
   "outputs": [
    {
     "name": "stdout",
     "output_type": "stream",
     "text": [
      "Overwriting COFFEESHOP.txt\n"
     ]
    }
   ],
   "source": [
    "%%writefile COFFEESHOP.txt\n",
    "\n",
    "COFFEESHOP DEFINITIONS ::= BEGIN\n",
    "\n",
    "IMPORTS\n",
    "    MODULE-IDENTITY, OBJECT-TYPE,\n",
    "    Integer32, experimental\n",
    "        FROM SNMPv2-SMI\n",
    "    DisplayString\n",
    "        FROM SNMPv2-TC\n",
    "        ;\n",
    "\n",
    "coffee MODULE-IDENTITY\n",
    "     LAST-UPDATED \"9803231700Z\"\n",
    "     ORGANIZATION \"The best coffeeshop in the world\"\n",
    "\n",
    "     CONTACT-INFO\n",
    "            \"        Gabriela Zorzo,\n",
    "                     Lucas Andreotti,\n",
    "                     Joana Figueredo\n",
    "             \"\n",
    "     DESCRIPTION\n",
    "            \"The MIB Module for the best coffeeshop.\"\n",
    "    ::= { experimental 1234 }\n",
    "\n",
    "items OBJECT IDENTIFIER ::= { coffee 1 }\n",
    "\n",
    "revenue OBJECT-TYPE\n",
    "     SYNTAX  Integer32\n",
    "     MAX-ACCESS read-only\n",
    "     STATUS current\n",
    "     DESCRIPTION\n",
    "             \"The total revenue of the coffeeshop.\"\n",
    "     ::= { items 1 }\n",
    "\n",
    "\n",
    "totalOrders OBJECT-TYPE\n",
    "     SYNTAX Integer32\n",
    "     MAX-ACCESS read-only\n",
    "     STATUS current\n",
    "     DESCRIPTION\n",
    "        \"The total number of orders placed in the coffeeshop.\"\n",
    "    ::= { items 2 }\n",
    "\n",
    "coffee OBJECT-TYPE\n",
    "     SYNTAX Integer32\n",
    "     MAX-ACCESS read-only\n",
    "     STATUS current\n",
    "     DESCRIPTION\n",
    "        \"The total number of coffees ordered in the coffeeshop.\"\n",
    "    ::= { items 3 }\n",
    "\n",
    "tea OBJECT-TYPE\n",
    "     SYNTAX Integer32\n",
    "     MAX-ACCESS read-only\n",
    "     STATUS current\n",
    "     DESCRIPTION\n",
    "        \"The total number of teas ordered in the coffeeshop.\"\n",
    "    ::= { items 4 }\n",
    "\n",
    "soda OBJECT-TYPE\n",
    "     SYNTAX Integer32\n",
    "     MAX-ACCESS read-only\n",
    "     STATUS current\n",
    "     DESCRIPTION\n",
    "        \"The total number of sodas ordered in the coffeeshop.\"\n",
    "    ::= { items 5 }\n",
    "\n",
    "muffin OBJECT-TYPE\n",
    "     SYNTAX Integer32\n",
    "     MAX-ACCESS read-only\n",
    "     STATUS current\n",
    "     DESCRIPTION\n",
    "        \"The total number of muffins ordered in the coffeeshop.\"\n",
    "    ::= { items 6 }\n",
    "\n",
    "sandwich OBJECT-TYPE\n",
    "     SYNTAX Integer32\n",
    "     MAX-ACCESS read-only\n",
    "     STATUS current\n",
    "     DESCRIPTION\n",
    "        \"The total number of sandwiches ordered in the coffeeshop.\"\n",
    "    ::= { items 7 }\n",
    "\n",
    "pie OBJECT-TYPE\n",
    "     SYNTAX Integer32\n",
    "     MAX-ACCESS read-only\n",
    "     STATUS current\n",
    "     DESCRIPTION\n",
    "        \"The total number of pies ordered in the coffeeshop.\"\n",
    "    ::= { items 8 }\n",
    "\n",
    "status OBJECT-TYPE\n",
    "     SYNTAX DisplayString (SIZE(0..255))\n",
    "     MAX-ACCESS read-write\n",
    "     STATUS current\n",
    "     DESCRIPTION\n",
    "        \"The status of the coffeeshop (open or closed).\"\n",
    "    ::= { items 9 }\n",
    "\n",
    "employeesTable OBJECT-TYPE\n",
    "    SYNTAX SEQUENCE OF Employee\n",
    "    MAX-ACCESS read-only\n",
    "    STATUS current\n",
    "    DESCRIPTION\n",
    "        \"The cofeeshop employees list.\"\n",
    "    ::= { items 10 }\n",
    "\n",
    "employee OBJECT-TYPE\n",
    "    SYNTAX Employee\n",
    "    MAX-ACCESS read-only\n",
    "    STATUS current\n",
    "    DESCRIPTION\n",
    "        \"An employee.\"\n",
    "    INDEX { employeeId }\n",
    "    ::= { employeesTable 1 }\n",
    "\n",
    "Employee ::= SEQUENCE {\n",
    "    employeeId Integer,\n",
    "    employeeName DisplayString (SIZE(0..255))\n",
    "}\n",
    "\n",
    "employeeId OBJECT-TYPE\n",
    "    SYNTAX Integer\n",
    "    MAX-ACCESS read-only\n",
    "    STATUS current\n",
    "    DESCRIPTION\n",
    "        \"The employee ID.\"\n",
    "    ::= { employee 1 }\n",
    "\n",
    "employeeName OBJECT-TYPE\n",
    "    SYNTAX DisplayString (SIZE(0..255))\n",
    "    MAX-ACCESS read-only\n",
    "    STATUS current\n",
    "    DESCRIPTION\n",
    "        \"The employee name.\"\n",
    "    ::= { employee 2 }\n",
    "\n",
    "\n",
    "\n",
    "END\n"
   ]
  },
  {
   "cell_type": "code",
   "execution_count": null,
   "metadata": {},
   "outputs": [],
   "source": [
    "####\n",
    "\n",
    "# #### Nossa tabela antiga\n",
    "# employeesTable OBJECT-TYPE\n",
    "#      SYNTAX SEQUENCE OF Employee\n",
    "#      MAX-ACCESS read-only\n",
    "#      STATUS current\n",
    "#      DESCRIPTION\n",
    "#         \"The cofeeshop employees list.\"\n",
    "#     ::= { items 10 }\n",
    "\n",
    "# employee OBJECT-TYPE\n",
    "#      SYNTAX Employee\n",
    "#      MAX-ACCESS read-only\n",
    "#      STATUS current\n",
    "#      DESCRIPTION\n",
    "#         \"An employee.\"\n",
    "#      INDEX { employeeName }\n",
    "#     ::= { employeesTable 1 }\n",
    "\n",
    "# Employee ::= SEQUENCE {\n",
    "#                 employeeName DisplayString (SIZE(0..255))\n",
    "#         }\n",
    "\n",
    "# employeeName OBJECT-TYPE\n",
    "#      SYNTAX DisplayString (SIZE(0..255))\n",
    "#      MAX-ACCESS read-only\n",
    "#      STATUS current\n",
    "#      DESCRIPTION\n",
    "#         \"The employee name.\"\n",
    "#     ::= { employee 1 }"
   ]
  },
  {
   "cell_type": "markdown",
   "metadata": {},
   "source": [
    "# Testando Agent SNMP acessando nossa MIB"
   ]
  },
  {
   "cell_type": "code",
   "execution_count": 44,
   "metadata": {},
   "outputs": [
    {
     "name": "stdout",
     "output_type": "stream",
     "text": [
      "COFFEESHOP::revenue.0 = INTEGER: 226\n",
      "COFFEESHOP::totalOrders.0 = INTEGER: 2\n",
      "COFFEESHOP::coffee.0 = INTEGER: 3\n",
      "COFFEESHOP::tea.0 = INTEGER: 6\n",
      "COFFEESHOP::soda.0 = INTEGER: 4\n"
     ]
    },
    {
     "name": "stdout",
     "output_type": "stream",
     "text": [
      "COFFEESHOP::muffin.0 = INTEGER: 1\n",
      "COFFEESHOP::sandwich.0 = INTEGER: 2\n",
      "COFFEESHOP::pie.0 = INTEGER: 1\n",
      "COFFEESHOP::status.0 = STRING: Open\n",
      "COFFEESHOP::employeesTable.0 = No Such Instance currently exists at this OID\n"
     ]
    }
   ],
   "source": [
    "%%bash\n",
    "\n",
    "snmpget -v2c -c public -M +. -m +COFFEESHOP localhost revenue.0\n",
    "snmpget -v2c -c public -M +. -m +COFFEESHOP localhost totalOrders.0\n",
    "snmpget -v2c -c public -M +. -m +COFFEESHOP localhost coffee.0\n",
    "snmpget -v2c -c public -M +. -m +COFFEESHOP localhost tea.0\n",
    "snmpget -v2c -c public -M +. -m +COFFEESHOP localhost soda.0\n",
    "snmpget -v2c -c public -M +. -m +COFFEESHOP localhost muffin.0\n",
    "snmpget -v2c -c public -M +. -m +COFFEESHOP localhost sandwich.0\n",
    "snmpget -v2c -c public -M +. -m +COFFEESHOP localhost pie.0\n",
    "snmpget -v2c -c public -M +. -m +COFFEESHOP localhost status.0\n",
    "snmpget -v2c -c public -M +. -m +COFFEESHOP localhost employeesTable.0"
   ]
  },
  {
   "cell_type": "markdown",
   "metadata": {},
   "source": [
    "# Nossa Aplicação que gera os logs"
   ]
  },
  {
   "cell_type": "code",
   "execution_count": 19,
   "metadata": {},
   "outputs": [
    {
     "name": "stdout",
     "output_type": "stream",
     "text": [
      "Overwriting /tmp/aplicacao.py\n"
     ]
    }
   ],
   "source": [
    "%%writefile /tmp/aplicacao.py\n",
    "\n",
    "from random import randrange\n",
    "import time\n",
    "import json\n",
    "\n",
    "# Funcionários\n",
    "employees = [\"Gabriela\",\"Joana\",\"Lucas\"]\n",
    "\n",
    "# Items\n",
    "items = [\"coffee\",\"tea\",\"soda\",\"muffin\",\"sandwich\",\"pie\"]\n",
    "\n",
    "# Número items\n",
    "itemsNumber = [0,0,0,0,0,0]\n",
    "\n",
    "# Tabela de preços\n",
    "priceTable = {\"coffee\" : 8, \"tea\" : 5, \"soda\" : 6, \"muffin\" : 7, \"sandwich\" : 15, \"pie\" : 12 }\n",
    "\n",
    "# Número pedidos\n",
    "orders = 0\n",
    "\n",
    "# Total valor\n",
    "totalValue = 0\n",
    "\n",
    "# Status\n",
    "status = \"Open\"\n",
    "\n",
    "\n",
    "while(True):\n",
    "    index = randrange(0,5)\n",
    "    item = items[index]\n",
    "    value = priceTable[item]\n",
    "\n",
    "    orders += 1\n",
    "    totalValue += value\n",
    "    itemsNumber[index] += 1\n",
    "\n",
    "    log = {\n",
    "        \"revenue\" : totalValue,\n",
    "        \"totalOrders\" : orders,\n",
    "        items[0] : itemsNumber[0],\n",
    "        items[1] : itemsNumber[1],\n",
    "        items[2] : itemsNumber[2],\n",
    "        items[3] : itemsNumber[3],\n",
    "        items[4] : itemsNumber[4],\n",
    "        items[5] : itemsNumber[5],\n",
    "        \"employees\" : employees,\n",
    "        \"priceTable\" : priceTable,\n",
    "        \"status\" : status\n",
    "    }\n",
    "\n",
    "    print(log)\n",
    "   \n",
    "    json_object = json.dumps(log, indent=4)\n",
    "    \n",
    "    with open(\"/tmp/logs.json\", \"w\") as outfile:\n",
    "        outfile.write(json_object)\n",
    "        outfile.close()\n",
    "\n",
    "    time.sleep(10)"
   ]
  }
 ],
 "metadata": {
  "kernelspec": {
   "display_name": "Python 3",
   "language": "python",
   "name": "python3"
  },
  "language_info": {
   "codemirror_mode": {
    "name": "ipython",
    "version": 3
   },
   "file_extension": ".py",
   "mimetype": "text/x-python",
   "name": "python",
   "nbconvert_exporter": "python",
   "pygments_lexer": "ipython3",
   "version": "3.10.13"
  }
 },
 "nbformat": 4,
 "nbformat_minor": 2
}
