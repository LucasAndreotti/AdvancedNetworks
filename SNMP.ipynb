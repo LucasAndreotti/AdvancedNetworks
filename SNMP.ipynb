{
 "cells": [
  {
   "cell_type": "markdown",
   "metadata": {},
   "source": [
    "# Redes Avançadas - T2\n",
    "### Gabriela Zorzo, Lucas Andreotti e Joana Figueredo"
   ]
  },
  {
   "cell_type": "markdown",
   "metadata": {},
   "source": [
    "Antes de executar, atualizar o caminho absoluto dos arquivos que serão consultados.\n",
    "\n",
    "**SNMP.ipyn (Agente)**\n",
    "- pass .1.3.6.1.3.1234.1 /usr/bin/python3 {path}/agent.py - {path} deve ser substituído pelo caminho absoluto da pasta no GitHub.\n",
    "\n",
    "**agent.py e coffeeshop.py**\n",
    "- PATH = {path} - {path} deve ser substituído pelo caminho absoluto da pasta no GitHub.\n"
   ]
  },
  {
   "cell_type": "markdown",
   "metadata": {},
   "source": [
    "# SNMP - Simple Network Management Protocol\n",
    "\n",
    "Instalação das ferreamentas necessárias."
   ]
  },
  {
   "cell_type": "code",
   "execution_count": 89,
   "metadata": {},
   "outputs": [
    {
     "name": "stderr",
     "output_type": "stream",
     "text": [
      "\n",
      "WARNING: apt does not have a stable CLI interface. Use with caution in scripts.\n",
      "\n"
     ]
    },
    {
     "name": "stdout",
     "output_type": "stream",
     "text": [
      "Hit:1 https://packages.microsoft.com/repos/microsoft-ubuntu-focal-prod focal InRelease\n",
      "Hit:2 https://dl.yarnpkg.com/debian stable InRelease\n",
      "Hit:3 http://security.ubuntu.com/ubuntu focal-security InRelease\n",
      "Hit:4 https://repo.anaconda.com/pkgs/misc/debrepo/conda stable InRelease\n",
      "Hit:5 http://archive.ubuntu.com/ubuntu focal InRelease\n",
      "Get:6 http://archive.ubuntu.com/ubuntu focal-updates InRelease [128 kB]\n",
      "Hit:8 http://archive.ubuntu.com/ubuntu focal-backports InRelease\n",
      "Hit:7 https://packagecloud.io/github/git-lfs/ubuntu focal InRelease\n",
      "Fetched 128 kB in 1s (131 kB/s)\n",
      "Reading package lists...\n",
      "Building dependency tree...\n",
      "Reading state information...\n",
      "32 packages can be upgraded. Run 'apt list --upgradable' to see them.\n"
     ]
    },
    {
     "name": "stderr",
     "output_type": "stream",
     "text": [
      "\n",
      "WARNING: apt does not have a stable CLI interface. Use with caution in scripts.\n",
      "\n"
     ]
    },
    {
     "name": "stdout",
     "output_type": "stream",
     "text": [
      "Reading package lists...\n",
      "Building dependency tree...\n",
      "Reading state information...\n",
      "snmp-mibs-downloader is already the newest version (1.2).\n",
      "snmp is already the newest version (5.8+dfsg-2ubuntu2.9).\n",
      "snmpd is already the newest version (5.8+dfsg-2ubuntu2.9).\n",
      "0 upgraded, 0 newly installed, 0 to remove and 32 not upgraded.\n"
     ]
    }
   ],
   "source": [
    "%%bash\n",
    "\n",
    "# Install SNMP - Linux\n",
    "sudo apt update\n",
    "sudo apt install -y snmp snmpd snmp-mibs-downloader"
   ]
  },
  {
   "cell_type": "markdown",
   "metadata": {},
   "source": [
    "# Agente\n",
    "\n",
    "Uso do agente para consultar informações a respeito do elemento gerenciado.\n",
    "\n",
    "O elemento em questão é uma cafeteria."
   ]
  },
  {
   "cell_type": "markdown",
   "metadata": {},
   "source": [
    "## snmpd.conf"
   ]
  },
  {
   "cell_type": "code",
   "execution_count": 94,
   "metadata": {},
   "outputs": [
    {
     "name": "stdout",
     "output_type": "stream",
     "text": [
      " * snmpd is running\n"
     ]
    }
   ],
   "source": [
    "%%bash\n",
    "\n",
    "# Add pass directive to snmpd.conf\n",
    "sudo tee /etc/snmp/snmpd.conf > /dev/null <<EOF\n",
    "rocommunity public\n",
    "rwcommunity private\n",
    "\n",
    "#pass .1.3.6.1.3.1234.1 /usr/bin/python3 /tmp/agent.py\n",
    "pass .1.3.6.1.3.1234.1 /usr/bin/python3 /workspaces/RedesAvancT2/agent.py\n",
    "EOF\n",
    "\n",
    "# Restart agent - Linux\n",
    "sudo service snmpd restart\n",
    "sudo service snmpd status"
   ]
  },
  {
   "cell_type": "markdown",
   "metadata": {},
   "source": [
    "Consultas feitas dos elementos gerenciados através do OID."
   ]
  },
  {
   "cell_type": "code",
   "execution_count": 99,
   "metadata": {},
   "outputs": [
    {
     "name": "stdout",
     "output_type": "stream",
     "text": [
      "SNMPv2-SMI::experimental.1234.1.1.0 = INTEGER: 8\n",
      "SNMPv2-SMI::experimental.1234.1.2.0 = INTEGER: 1\n",
      "SNMPv2-SMI::experimental.1234.1.3.0 = INTEGER: 1\n"
     ]
    },
    {
     "name": "stdout",
     "output_type": "stream",
     "text": [
      "SNMPv2-SMI::experimental.1234.1.4.0 = INTEGER: 0\n",
      "SNMPv2-SMI::experimental.1234.1.5.0 = INTEGER: 0\n",
      "SNMPv2-SMI::experimental.1234.1.6.0 = INTEGER: 0\n",
      "SNMPv2-SMI::experimental.1234.1.7.0 = INTEGER: 0\n",
      "SNMPv2-SMI::experimental.1234.1.8.0 = INTEGER: 0\n",
      "SNMPv2-SMI::experimental.1234.1.9.0 = STRING: \"Open\"\n",
      "SNMPv2-SMI::experimental.1234.1.10.1.2 = STRING: \"Gabriela\"\n",
      "SNMPv2-SMI::experimental.1234.1.10.2.2 = STRING: \"Joana\"\n",
      "SNMPv2-SMI::experimental.1234.1.10.3.2 = STRING: \"Lucas\"\n"
     ]
    }
   ],
   "source": [
    "%%bash\n",
    "\n",
    "snmpget -v2c -c public localhost .1.3.6.1.3.1234.1.1.0\n",
    "snmpget -v2c -c public localhost .1.3.6.1.3.1234.1.2.0\n",
    "snmpget -v2c -c public localhost .1.3.6.1.3.1234.1.3.0\n",
    "snmpget -v2c -c public localhost .1.3.6.1.3.1234.1.4.0\n",
    "snmpget -v2c -c public localhost .1.3.6.1.3.1234.1.5.0\n",
    "snmpget -v2c -c public localhost .1.3.6.1.3.1234.1.6.0\n",
    "snmpget -v2c -c public localhost .1.3.6.1.3.1234.1.7.0\n",
    "snmpget -v2c -c public localhost .1.3.6.1.3.1234.1.8.0\n",
    "snmpget -v2c -c public localhost .1.3.6.1.3.1234.1.9.0\n",
    "snmpget -v2c -c public localhost .1.3.6.1.3.1234.1.10.1.2\n",
    "snmpget -v2c -c public localhost .1.3.6.1.3.1234.1.10.2.2\n",
    "snmpget -v2c -c public localhost .1.3.6.1.3.1234.1.10.3.2"
   ]
  },
  {
   "cell_type": "markdown",
   "metadata": {},
   "source": [
    "Consulta através do *getnext*."
   ]
  },
  {
   "cell_type": "code",
   "execution_count": 103,
   "metadata": {},
   "outputs": [
    {
     "name": "stdout",
     "output_type": "stream",
     "text": [
      "SNMPv2-SMI::experimental.1234.1.10.1.1 = INTEGER: 1\n",
      "SNMPv2-SMI::experimental.1234.1.10.1.1 = INTEGER: 1\n",
      "SNMPv2-SMI::experimental.1234.1.10.2.1 = INTEGER: 2\n"
     ]
    },
    {
     "name": "stdout",
     "output_type": "stream",
     "text": [
      "SNMPv2-SMI::experimental.1234.1.10.3.1 = INTEGER: 3\n",
      "SNMPv2-SMI::experimental.1234.1.10.1.2 = STRING: \"Gabriela\"\n",
      "SNMPv2-SMI::experimental.1234.1.10.2.2 = STRING: \"Joana\"\n",
      "SNMPv2-SMI::experimental.1234.1.10.3.2 = STRING: \"Lucas\"\n"
     ]
    }
   ],
   "source": [
    "%%bash\n",
    "\n",
    "# primeiro ínidice da tabela\n",
    "snmpgetnext -v2c -c public localhost .1.3.6.1.3.1234.1.10\n",
    "\n",
    "# primeiro item de cada linha (índice)\n",
    "snmpgetnext -v2c -c public localhost .1.3.6.1.3.1234.1.10.1\n",
    "snmpgetnext -v2c -c public localhost .1.3.6.1.3.1234.1.10.2\n",
    "snmpgetnext -v2c -c public localhost .1.3.6.1.3.1234.1.10.3\n",
    "\n",
    "# nome do employee\n",
    "snmpgetnext -v2c -c public localhost .1.3.6.1.3.1234.1.10.3.1\n",
    "snmpgetnext -v2c -c public localhost .1.3.6.1.3.1234.1.10.1.2\n",
    "snmpgetnext -v2c -c public localhost .1.3.6.1.3.1234.1.10.2.2"
   ]
  },
  {
   "cell_type": "markdown",
   "metadata": {},
   "source": [
    "Comando de escrita feito no elemento 'status' da cafeteria."
   ]
  },
  {
   "cell_type": "code",
   "execution_count": 33,
   "metadata": {},
   "outputs": [
    {
     "name": "stdout",
     "output_type": "stream",
     "text": [
      "SNMPv2-SMI::experimental.1234.1.9.0 = STRING: \"Close\"\n"
     ]
    }
   ],
   "source": [
    "%%bash\n",
    "\n",
    "snmpset -v2c -c private localhost .1.3.6.1.3.1234.1.9.0 s Close"
   ]
  },
  {
   "cell_type": "markdown",
   "metadata": {},
   "source": [
    "Retorno do elemento 'status' com valor atualizado."
   ]
  },
  {
   "cell_type": "code",
   "execution_count": 36,
   "metadata": {},
   "outputs": [
    {
     "name": "stdout",
     "output_type": "stream",
     "text": [
      "SNMPv2-SMI::experimental.1234.1.9.0 = STRING: \"Close\"\n"
     ]
    }
   ],
   "source": [
    "%%bash \n",
    "\n",
    "snmpget -v2c -c public localhost .1.3.6.1.3.1234.1.9.0"
   ]
  },
  {
   "cell_type": "markdown",
   "metadata": {},
   "source": [
    "# MIB\n",
    "\n",
    "Implementação da MIB da cafeteria."
   ]
  },
  {
   "cell_type": "code",
   "execution_count": 73,
   "metadata": {},
   "outputs": [
    {
     "name": "stdout",
     "output_type": "stream",
     "text": [
      "Overwriting COFFEESHOP.txt\n"
     ]
    }
   ],
   "source": [
    "%%writefile COFFEESHOP.txt\n",
    "\n",
    "COFFEESHOP DEFINITIONS ::= BEGIN\n",
    "\n",
    "IMPORTS\n",
    "    MODULE-IDENTITY, OBJECT-TYPE,\n",
    "    Integer32, experimental\n",
    "        FROM SNMPv2-SMI\n",
    "    DisplayString\n",
    "        FROM SNMPv2-TC\n",
    "        ;\n",
    "\n",
    "coffeeMib MODULE-IDENTITY\n",
    "     LAST-UPDATED \"9803231700Z\"\n",
    "     ORGANIZATION \"The best coffeeshop in the world\"\n",
    "\n",
    "     CONTACT-INFO\n",
    "            \"        Gabriela Zorzo,\n",
    "                     Lucas Andreotti,\n",
    "                     Joana Figueredo\n",
    "             \"\n",
    "     DESCRIPTION\n",
    "            \"The MIB Module for the best coffeeshop.\"\n",
    "    ::= { experimental 1234 }\n",
    "\n",
    "items OBJECT IDENTIFIER ::= { coffeeMib 1 }\n",
    "\n",
    "revenue OBJECT-TYPE\n",
    "     SYNTAX  Integer32\n",
    "     MAX-ACCESS read-only\n",
    "     STATUS current\n",
    "     DESCRIPTION\n",
    "             \"The total revenue of the coffeeshop.\"\n",
    "     ::= { items 1 }\n",
    "\n",
    "\n",
    "totalOrders OBJECT-TYPE\n",
    "     SYNTAX Integer32\n",
    "     MAX-ACCESS read-only\n",
    "     STATUS current\n",
    "     DESCRIPTION\n",
    "        \"The total number of orders placed in the coffeeshop.\"\n",
    "    ::= { items 2 }\n",
    "\n",
    "coffee OBJECT-TYPE\n",
    "     SYNTAX Integer32\n",
    "     MAX-ACCESS read-only\n",
    "     STATUS current\n",
    "     DESCRIPTION\n",
    "        \"The total number of coffees ordered in the coffeeshop.\"\n",
    "    ::= { items 3 }\n",
    "\n",
    "tea OBJECT-TYPE\n",
    "     SYNTAX Integer32\n",
    "     MAX-ACCESS read-only\n",
    "     STATUS current\n",
    "     DESCRIPTION\n",
    "        \"The total number of teas ordered in the coffeeshop.\"\n",
    "    ::= { items 4 }\n",
    "\n",
    "soda OBJECT-TYPE\n",
    "     SYNTAX Integer32\n",
    "     MAX-ACCESS read-only\n",
    "     STATUS current\n",
    "     DESCRIPTION\n",
    "        \"The total number of sodas ordered in the coffeeshop.\"\n",
    "    ::= { items 5 }\n",
    "\n",
    "muffin OBJECT-TYPE\n",
    "     SYNTAX Integer32\n",
    "     MAX-ACCESS read-only\n",
    "     STATUS current\n",
    "     DESCRIPTION\n",
    "        \"The total number of muffins ordered in the coffeeshop.\"\n",
    "    ::= { items 6 }\n",
    "\n",
    "sandwich OBJECT-TYPE\n",
    "     SYNTAX Integer32\n",
    "     MAX-ACCESS read-only\n",
    "     STATUS current\n",
    "     DESCRIPTION\n",
    "        \"The total number of sandwiches ordered in the coffeeshop.\"\n",
    "    ::= { items 7 }\n",
    "\n",
    "pie OBJECT-TYPE\n",
    "     SYNTAX Integer32\n",
    "     MAX-ACCESS read-only\n",
    "     STATUS current\n",
    "     DESCRIPTION\n",
    "        \"The total number of pies ordered in the coffeeshop.\"\n",
    "    ::= { items 8 }\n",
    "\n",
    "status OBJECT-TYPE\n",
    "     SYNTAX DisplayString (SIZE(0..255))\n",
    "     MAX-ACCESS read-write\n",
    "     STATUS current\n",
    "     DESCRIPTION\n",
    "        \"The status of the coffeeshop (open or closed).\"\n",
    "    ::= { items 9 }\n",
    "\n",
    "employeesTable OBJECT-TYPE\n",
    "    SYNTAX SEQUENCE OF Employee\n",
    "    MAX-ACCESS read-only\n",
    "    STATUS current\n",
    "    DESCRIPTION\n",
    "        \"The cofeeshop employees list.\"\n",
    "    ::= { items 10 }\n",
    "\n",
    "employee OBJECT-TYPE\n",
    "    SYNTAX Employee\n",
    "    MAX-ACCESS read-only\n",
    "    STATUS current\n",
    "    DESCRIPTION\n",
    "        \"An employee.\"\n",
    "    INDEX { employeeId }\n",
    "    ::= { employeesTable 1 }\n",
    "\n",
    "Employee ::= SEQUENCE {\n",
    "    employeeId Integer32,\n",
    "    employeeName DisplayString (SIZE(0..255))\n",
    "}\n",
    "\n",
    "employeeId OBJECT-TYPE\n",
    "    SYNTAX Integer32\n",
    "    MAX-ACCESS read-only\n",
    "    STATUS current\n",
    "    DESCRIPTION\n",
    "        \"The employee ID.\"\n",
    "    ::= { employee 1 }\n",
    "\n",
    "employeeName OBJECT-TYPE\n",
    "    SYNTAX DisplayString (SIZE(0..255))\n",
    "    MAX-ACCESS read-only\n",
    "    STATUS current\n",
    "    DESCRIPTION\n",
    "        \"The employee name.\"\n",
    "    ::= { employee 2 }\n",
    "\n",
    "\n",
    "\n",
    "END\n"
   ]
  },
  {
   "cell_type": "markdown",
   "metadata": {},
   "source": [
    "Consulta dos elementos gerenciados acessando pelo nome do objeto definido na MIB."
   ]
  },
  {
   "cell_type": "code",
   "execution_count": 76,
   "metadata": {},
   "outputs": [
    {
     "name": "stdout",
     "output_type": "stream",
     "text": [
      "COFFEESHOP::revenue.0 = INTEGER: 8\n",
      "COFFEESHOP::totalOrders.0 = INTEGER: 1\n",
      "COFFEESHOP::coffee.0 = INTEGER: 1\n"
     ]
    },
    {
     "name": "stdout",
     "output_type": "stream",
     "text": [
      "COFFEESHOP::tea.0 = INTEGER: 0\n",
      "COFFEESHOP::soda.0 = INTEGER: 0\n",
      "COFFEESHOP::muffin.0 = INTEGER: 0\n",
      "COFFEESHOP::sandwich.0 = INTEGER: 0\n",
      "COFFEESHOP::pie.0 = INTEGER: 0\n",
      "COFFEESHOP::status.0 = STRING: Open\n",
      "COFFEESHOP::employeeName = STRING: Gabriela\n",
      "COFFEESHOP::employeesTable.2.2 = STRING: \"Joana\"\n",
      "COFFEESHOP::employeesTable.3.2 = STRING: \"Lucas\"\n"
     ]
    }
   ],
   "source": [
    "%%bash\n",
    "\n",
    "snmpget -v2c -c public -M +. -m +COFFEESHOP localhost revenue.0\n",
    "snmpget -v2c -c public -M +. -m +COFFEESHOP localhost totalOrders.0\n",
    "snmpget -v2c -c public -M +. -m +COFFEESHOP localhost coffee.0\n",
    "snmpget -v2c -c public -M +. -m +COFFEESHOP localhost tea.0\n",
    "snmpget -v2c -c public -M +. -m +COFFEESHOP localhost soda.0\n",
    "snmpget -v2c -c public -M +. -m +COFFEESHOP localhost muffin.0\n",
    "snmpget -v2c -c public -M +. -m +COFFEESHOP localhost sandwich.0\n",
    "snmpget -v2c -c public -M +. -m +COFFEESHOP localhost pie.0\n",
    "snmpget -v2c -c public -M +. -m +COFFEESHOP localhost status.0\n",
    "snmpget -v2c -c public -M +. -m +COFFEESHOP localhost employeesTable.1.2\n",
    "snmpget -v2c -c public -M +. -m +COFFEESHOP localhost employeesTable.2.2\n",
    "snmpget -v2c -c public -M +. -m +COFFEESHOP localhost employeesTable.3.2"
   ]
  },
  {
   "cell_type": "markdown",
   "metadata": {},
   "source": [
    "Consulta através do *getnext*."
   ]
  },
  {
   "cell_type": "code",
   "execution_count": 104,
   "metadata": {},
   "outputs": [
    {
     "name": "stdout",
     "output_type": "stream",
     "text": [
      "COFFEESHOP::employeeId = INTEGER: 1\n",
      "COFFEESHOP::employeeId = INTEGER: 1\n",
      "COFFEESHOP::employeesTable.2.1 = INTEGER: 2\n",
      "COFFEESHOP::employeesTable.3.1 = INTEGER: 3\n",
      "COFFEESHOP::employeeName = STRING: Gabriela\n",
      "COFFEESHOP::employeesTable.2.2 = STRING: \"Joana\"\n",
      "COFFEESHOP::employeesTable.3.2 = STRING: \"Lucas\"\n"
     ]
    }
   ],
   "source": [
    "%%bash\n",
    "\n",
    "# primeiro ínidice da tabela\n",
    "snmpgetnext -v2c -c public -M +. -m +COFFEESHOP localhost employeesTable\n",
    "\n",
    "# primeiro item de cada linha (índice)\n",
    "snmpgetnext -v2c -c public -M +. -m +COFFEESHOP localhost employeesTable.1\n",
    "snmpgetnext -v2c -c public -M +. -m +COFFEESHOP localhost employeesTable.2\n",
    "snmpgetnext -v2c -c public -M +. -m +COFFEESHOP localhost employeesTable.3\n",
    "\n",
    "# nome do employee\n",
    "snmpgetnext -v2c -c public -M +. -m +COFFEESHOP localhost employeesTable.3.1\n",
    "snmpgetnext -v2c -c public -M +. -m +COFFEESHOP localhost employeesTable.1.2\n",
    "snmpgetnext -v2c -c public -M +. -m +COFFEESHOP localhost employeesTable.2.2"
   ]
  },
  {
   "cell_type": "markdown",
   "metadata": {},
   "source": [
    "Comando de escrita feito no elemento 'status' da cafeteria."
   ]
  },
  {
   "cell_type": "code",
   "execution_count": 72,
   "metadata": {},
   "outputs": [
    {
     "name": "stdout",
     "output_type": "stream",
     "text": [
      "COFFEESHOP::status.0 = STRING: Open\n"
     ]
    }
   ],
   "source": [
    "%%bash\n",
    "\n",
    "snmpset -v2c -c private -M +. -m +COFFEESHOP localhost status.0 s Open"
   ]
  },
  {
   "cell_type": "markdown",
   "metadata": {},
   "source": [
    "Retorno do elemento 'status' com valor atualizado."
   ]
  },
  {
   "cell_type": "code",
   "execution_count": 69,
   "metadata": {},
   "outputs": [
    {
     "name": "stdout",
     "output_type": "stream",
     "text": [
      "COFFEESHOP::status.0 = STRING: Close\n"
     ]
    }
   ],
   "source": [
    "%%bash\n",
    "\n",
    "snmpget -v2c -c public -M +. -m +COFFEESHOP localhost status.0"
   ]
  }
 ],
 "metadata": {
  "kernelspec": {
   "display_name": "Python 3",
   "language": "python",
   "name": "python3"
  },
  "language_info": {
   "codemirror_mode": {
    "name": "ipython",
    "version": 3
   },
   "file_extension": ".py",
   "mimetype": "text/x-python",
   "name": "python",
   "nbconvert_exporter": "python",
   "pygments_lexer": "ipython3",
   "version": "3.10.13"
  }
 },
 "nbformat": 4,
 "nbformat_minor": 2
}
